{
  "nbformat": 4,
  "nbformat_minor": 0,
  "metadata": {
    "colab": {
      "name": "09W-01-tf2-ch04.ipynb",
      "provenance": [],
      "authorship_tag": "ABX9TyP621DEQuwf4ZXgwu1s0x9A",
      "include_colab_link": true
    },
    "kernelspec": {
      "name": "python3",
      "display_name": "Python 3"
    }
  },
  "cells": [
    {
      "cell_type": "markdown",
      "metadata": {
        "id": "view-in-github",
        "colab_type": "text"
      },
      "source": [
        "<a href=\"https://colab.research.google.com/github/limhyeona2000/2020-2-AI/blob/master/code/09W-01-tf2-ch04.ipynb\" target=\"_parent\"><img src=\"https://colab.research.google.com/assets/colab-badge.svg\" alt=\"Open In Colab\"/></a>"
      ]
    },
    {
      "cell_type": "markdown",
      "metadata": {
        "id": "1K2IgsvTdxgb"
      },
      "source": [
        "# **활성화 함수 tanh**"
      ]
    },
    {
      "cell_type": "code",
      "metadata": {
        "colab": {
          "base_uri": "https://localhost:8080/",
          "height": 374
        },
        "id": "NY1iOsB1dtb-",
        "outputId": "ff847320-0eae-4fb1-f0a0-e95eb1c67767"
      },
      "source": [
        "# 그림 4.2 출력 코드\n",
        "import math\n",
        "import numpy as np\n",
        "import matplotlib.pyplot as plt\n",
        "\n",
        "def sigmoid(x):\n",
        "    return 1 / (1 + math.exp(-x))\n",
        "\n",
        "x = np.arange(-6, 6, 0.01)\n",
        "sigmoid_x = [sigmoid(z) for z in x]\n",
        "tanh_x = [math.tanh(z) for z in x]\n",
        "\n",
        "plt.figure(figsize=(8, 6)) \n",
        "\n",
        "plt.axhline(0, color='gray')\n",
        "plt.axvline(0, color='gray')\n",
        "plt.plot(x, sigmoid_x, 'b-', label='sigmoid')\n",
        "plt.plot(x, tanh_x, 'r--', label='tanh')\n",
        "plt.legend()\n",
        "plt.show()"
      ],
      "execution_count": 1,
      "outputs": [
        {
          "output_type": "display_data",
          "data": {
            "image/png": "[encoded data removed]",
            "text/plain": [
              "<Figure size 576x432 with 1 Axes>"
            ]
          },
          "metadata": {
            "tags": [],
            "needs_background": "light"
          }
        }
      ]
    },
    {
      "cell_type": "markdown",
      "metadata": {
        "id": "32AEqvN8d2oB"
      },
      "source": [
        "# **인구증가율과 고령인구비율 회귀 분석**"
      ]
    },
    {
      "cell_type": "code",
      "metadata": {
        "colab": {
          "base_uri": "https://localhost:8080/"
        },
        "id": "q8QosMPRd4yB",
        "outputId": "135f4560-668b-4e79-a0d6-4f1f13ed47c3"
      },
      "source": [
        "# 4.7 딥러닝 네트워크를 이용한 회귀\n",
        "import tensorflow as tf\n",
        "import numpy as np\n",
        "\n",
        "# 인구증가율과 고령인구비율\n",
        "X = [0.3, -0.78, 1.26, 0.03, 1.11, 0.24, -0.24, -0.47, -0.77, -0.37, -0.85, -0.41, -0.27, 0.02, -0.76, 2.66]\n",
        "Y = [12.27, 14.44, 11.87, 18.75, 17.52, 16.37, 19.78, 19.51, 12.65, 14.74, 10.72, 21.94, 12.83, 15.51, 17.14, 14.42]\n",
        "\n",
        "model = tf.keras.Sequential([\n",
        "    tf.keras.layers.Dense(units=6, activation='tanh', input_shape=(1,)),\n",
        "    tf.keras.layers.Dense(units=1)\n",
        "])\n",
        "\n",
        "model.compile(optimizer=tf.keras.optimizers.SGD(lr=0.1), loss='mse')\n",
        "\n",
        "model.summary()"
      ],
      "execution_count": 2,
      "outputs": [
        {
          "output_type": "stream",
          "text": [
            "Model: \"sequential\"\n",
            "_________________________________________________________________\n",
            "Layer (type)                 Output Shape              Param #   \n",
            "=================================================================\n",
            "dense (Dense)                (None, 6)                 12        \n",
            "_________________________________________________________________\n",
            "dense_1 (Dense)              (None, 1)                 7         \n",
            "=================================================================\n",
            "Total params: 19\n",
            "Trainable params: 19\n",
            "Non-trainable params: 0\n",
            "_________________________________________________________________\n"
          ],
          "name": "stdout"
        }
      ]
    },
    {
      "cell_type": "code",
      "metadata": {
        "colab": {
          "base_uri": "https://localhost:8080/"
        },
        "id": "oqq1m2Iud6o5",
        "outputId": "af41dcaa-39bb-45af-9952-1f2071e6c3a3"
      },
      "source": [
        "# 4.8 딥러닝 네트워크의 학습\n",
        "model.fit(X, Y, epochs=10)"
      ],
      "execution_count": 3,
      "outputs": [
        {
          "output_type": "stream",
          "text": [
            "Epoch 1/10\n",
            "1/1 [==============================] - 0s 1ms/step - loss: 254.1645\n",
            "Epoch 2/10\n",
            "1/1 [==============================] - 0s 1ms/step - loss: 117.8263\n",
            "Epoch 3/10\n",
            "1/1 [==============================] - 0s 1ms/step - loss: 9.9319\n",
            "Epoch 4/10\n",
            "1/1 [==============================] - 0s 1ms/step - loss: 9.6229\n",
            "Epoch 5/10\n",
            "1/1 [==============================] - 0s 1ms/step - loss: 9.5677\n",
            "Epoch 6/10\n",
            "1/1 [==============================] - 0s 2ms/step - loss: 9.5472\n",
            "Epoch 7/10\n",
            "1/1 [==============================] - 0s 1ms/step - loss: 9.5316\n",
            "Epoch 8/10\n",
            "1/1 [==============================] - 0s 1ms/step - loss: 9.5158\n",
            "Epoch 9/10\n",
            "1/1 [==============================] - 0s 1ms/step - loss: 9.4990\n",
            "Epoch 10/10\n",
            "1/1 [==============================] - 0s 1ms/step - loss: 9.4810\n"
          ],
          "name": "stdout"
        },
        {
          "output_type": "execute_result",
          "data": {
            "text/plain": [
              "<tensorflow.python.keras.callbacks.History at 0x7f422c6f4a90>"
            ]
          },
          "metadata": {
            "tags": []
          },
          "execution_count": 3
        }
      ]
    },
    {
      "cell_type": "code",
      "metadata": {
        "colab": {
          "base_uri": "https://localhost:8080/"
        },
        "id": "GgFUR150d7_K",
        "outputId": "4e18faea-d749-4f9e-f956-584a4da3f01c"
      },
      "source": [
        "# 4.9 딥러닝 네트워크의 Y값 예측\n",
        "model.predict(X)"
      ],
      "execution_count": 4,
      "outputs": [
        {
          "output_type": "execute_result",
          "data": {
            "text/plain": [
              "array([[16.07807  ],\n",
              "       [15.442228 ],\n",
              "       [15.709459 ],\n",
              "       [16.02228  ],\n",
              "       [15.830702 ],\n",
              "       [16.071436 ],\n",
              "       [15.898796 ],\n",
              "       [15.7384815],\n",
              "       [15.4531555],\n",
              "       [15.814493 ],\n",
              "       [15.363354 ],\n",
              "       [15.785255 ],\n",
              "       [15.880793 ],\n",
              "       [16.018927 ],\n",
              "       [15.463999 ],\n",
              "       [13.61978  ]], dtype=float32)"
            ]
          },
          "metadata": {
            "tags": []
          },
          "execution_count": 4
        }
      ]
    },
    {
      "cell_type": "code",
      "metadata": {
        "colab": {
          "base_uri": "https://localhost:8080/",
          "height": 279
        },
        "id": "3x1vIloed9X5",
        "outputId": "9565b2c4-81b6-45c7-b223-2276e585e6d1"
      },
      "source": [
        "# 4.10 딥러닝 네트워크의 회귀선 확인\n",
        "import matplotlib.pyplot as plt\n",
        "\n",
        "line_x = np.arange(min(X), max(X), 0.01)\n",
        "line_y = model.predict(line_x)\n",
        "\n",
        "plt.plot(line_x, line_y, 'r-')\n",
        "plt.plot(X, Y, 'bo')\n",
        "\n",
        "plt.xlabel('Population Growth Rate (%)')\n",
        "plt.ylabel('Elderly Population Rate (%)')\n",
        "plt.show()"
      ],
      "execution_count": 5,
      "outputs": [
        {
          "output_type": "display_data",
          "data": {
            "image/png": "[encoded data removed]",
            "text/plain": [
              "<Figure size 432x288 with 1 Axes>"
            ]
          },
          "metadata": {
            "tags": [],
            "needs_background": "light"
          }
        }
      ]
    },
    {
      "cell_type": "code",
      "metadata": {
        "colab": {
          "base_uri": "https://localhost:8080/"
        },
        "id": "GEi_r6SWd-bS",
        "outputId": "831209df-85e7-4601-b911-3e7c6bd3f63d"
      },
      "source": [
        "# 4.7 딥러닝 네트워크를 이용한 회귀\n",
        "import tensorflow as tf\n",
        "import numpy as np\n",
        "\n",
        "# 인구증가율과 고령인구비율\n",
        "X = [0.3, -0.78, 1.26, 0.03, 1.11, 0.24, -0.24, -0.47, -0.77, -0.37, -0.85, -0.41, -0.27, 0.02, -0.76, 2.66]\n",
        "Y = [12.27, 14.44, 11.87, 18.75, 17.52, 16.37, 19.78, 19.51, 12.65, 14.74, 10.72, 21.94, 12.83, 15.51, 17.14, 14.42]\n",
        "\n",
        "model = tf.keras.Sequential([\n",
        "    tf.keras.layers.Dense(units=6, activation='tanh', input_shape=(1,)),\n",
        "    tf.keras.layers.Dense(units=1)\n",
        "])\n",
        "\n",
        "model.compile(optimizer=tf.keras.optimizers.SGD(lr=0.1), loss='mse')\n",
        "\n",
        "model.summary()\n",
        "\n",
        "# 4.8 딥러닝 네트워크의 학습\n",
        "model.fit(X, Y, epochs=10)\n",
        "\n",
        "# 4.9 딥러닝 네트워크의 Y값 예측\n",
        "model.predict(X)"
      ],
      "execution_count": 6,
      "outputs": [
        {
          "output_type": "stream",
          "text": [
            "Model: \"sequential_1\"\n",
            "_________________________________________________________________\n",
            "Layer (type)                 Output Shape              Param #   \n",
            "=================================================================\n",
            "dense_2 (Dense)              (None, 6)                 12        \n",
            "_________________________________________________________________\n",
            "dense_3 (Dense)              (None, 1)                 7         \n",
            "=================================================================\n",
            "Total params: 19\n",
            "Trainable params: 19\n",
            "Non-trainable params: 0\n",
            "_________________________________________________________________\n",
            "Epoch 1/10\n",
            "1/1 [==============================] - 0s 1ms/step - loss: 253.7723\n",
            "Epoch 2/10\n",
            "1/1 [==============================] - 0s 2ms/step - loss: 97.3095\n",
            "Epoch 3/10\n",
            "1/1 [==============================] - 0s 1ms/step - loss: 11.1377\n",
            "Epoch 4/10\n",
            "1/1 [==============================] - 0s 1ms/step - loss: 9.8931\n",
            "Epoch 5/10\n",
            "1/1 [==============================] - 0s 1ms/step - loss: 9.7156\n",
            "Epoch 6/10\n",
            "1/1 [==============================] - 0s 2ms/step - loss: 9.6871\n",
            "Epoch 7/10\n",
            "1/1 [==============================] - 0s 2ms/step - loss: 9.6801\n",
            "Epoch 8/10\n",
            "1/1 [==============================] - 0s 2ms/step - loss: 9.6763\n",
            "Epoch 9/10\n",
            "1/1 [==============================] - 0s 1ms/step - loss: 9.6728\n",
            "Epoch 10/10\n",
            "1/1 [==============================] - 0s 1ms/step - loss: 9.6691\n"
          ],
          "name": "stdout"
        },
        {
          "output_type": "execute_result",
          "data": {
            "text/plain": [
              "array([[15.72953 ],\n",
              "       [15.848509],\n",
              "       [15.355854],\n",
              "       [15.783331],\n",
              "       [15.436594],\n",
              "       [15.743113],\n",
              "       [15.819727],\n",
              "       [15.838617],\n",
              "       [15.848448],\n",
              "       [15.831688],\n",
              "       [15.84848 ],\n",
              "       [15.834692],\n",
              "       [15.822794],\n",
              "       [15.784975],\n",
              "       [15.84837 ],\n",
              "       [14.045361]], dtype=float32)"
            ]
          },
          "metadata": {
            "tags": []
          },
          "execution_count": 6
        }
      ]
    },
    {
      "cell_type": "markdown",
      "metadata": {
        "id": "xArWB_cyeCbx"
      },
      "source": [
        "# 인구증가율과 고령인구비율 회귀 분석\n",
        "*   텐서플로만을 이용한 회귀 분석\n",
        "\n"
      ]
    },
    {
      "cell_type": "code",
      "metadata": {
        "colab": {
          "base_uri": "https://localhost:8080/"
        },
        "id": "iXyrVf2GeBmh",
        "outputId": "2af974ef-2d8e-4ca3-ba88-9ddd7df38d3d"
      },
      "source": [
        "# 4.4 텐서플로를 이용해서 회귀선 구하기\n",
        "import tensorflow as tf\n",
        "import numpy as np\n",
        "# import random\n",
        "\n",
        "X = [0.3, -0.78, 1.26, 0.03, 1.11, 0.24, -0.24, -0.47, -0.77, -0.37, -0.85, -0.41, -0.27, 0.02, -0.76, 2.66]\n",
        "Y = [12.27, 14.44, 11.87, 18.75, 17.52, 16.37, 19.78, 19.51, 12.65, 14.74, 10.72, 21.94, 12.83, 15.51, 17.14, 14.42]\n",
        "\n",
        "# a와 b를 랜덤한 값으로 초기화합니다.\n",
        "# a = tf.Variable(random.random())\n",
        "# b = tf.Variable(random.random())\n",
        "a = tf.Variable(tf.random.uniform([1], 0, 1))\n",
        "b = tf.Variable(tf.random.uniform([1], 0, 1))\n",
        "\n",
        "# 잔차의 제곱의 평균을 반환하는 함수입니다.\n",
        "def compute_loss():\n",
        "    y_pred = a * X + b\n",
        "    loss = tf.reduce_mean((Y - y_pred) ** 2)\n",
        "    return loss\n",
        "\n",
        "optimizer = tf.keras.optimizers.Adam(lr=0.07)\n",
        "for i in range(1000):\n",
        "    # 잔차의 제곱의 평균을 최소화(minimize)합니다.\n",
        "    optimizer.minimize(compute_loss, var_list=[a, b])\n",
        "    \n",
        "    if i % 100 == 99:\n",
        "        print(i, 'a:', a.numpy(), 'b:', b.numpy(), 'loss:', compute_loss().numpy())"
      ],
      "execution_count": 7,
      "outputs": [
        {
          "output_type": "stream",
          "text": [
            "99 a: [0.09384715] b: [7.190864] loss: 81.49823\n",
            "199 a: [-0.13891266] b: [11.5813675] loss: 26.453377\n",
            "299 a: [-0.26995096] b: [14.050791] loss: 12.394356\n",
            "399 a: [-0.32831162] b: [15.15063] loss: 10.049217\n",
            "499 a: [-0.34872958] b: [15.535442] loss: 9.798684\n",
            "599 a: [-0.35436484] b: [15.64163] loss: 9.781569\n",
            "699 a: [-0.35559297] b: [15.664772] loss: 9.780825\n",
            "799 a: [-0.35580277] b: [15.668735] loss: 9.780804\n",
            "899 a: [-0.35583225] b: [15.669262] loss: 9.780804\n",
            "999 a: [-0.35583344] b: [15.669303] loss: 9.780804\n"
          ],
          "name": "stdout"
        }
      ]
    },
    {
      "cell_type": "code",
      "metadata": {
        "colab": {
          "base_uri": "https://localhost:8080/",
          "height": 279
        },
        "id": "d3SFjjVLeXIC",
        "outputId": "d43adcae-eedb-445c-d422-81d39e375420"
      },
      "source": [
        "import matplotlib.pyplot as plt\n",
        "\n",
        "line_x = np.arange(min(X), max(X), 0.01)\n",
        "line_y = a * line_x + b\n",
        "\n",
        "# 그래프를 그립니다.\n",
        "plt.plot(line_x, line_y, 'r-')\n",
        "plt.plot(X, Y, 'bo')\n",
        "plt.xlabel('Population Growth Rate (%)')\n",
        "plt.ylabel('Elderly Population Rate (%)')\n",
        "plt.show()"
      ],
      "execution_count": 8,
      "outputs": [
        {
          "output_type": "display_data",
          "data": {
            "image/png": "[encoded data removed]",
            "text/plain": [
              "<Figure size 432x288 with 1 Axes>"
            ]
          },
          "metadata": {
            "tags": [],
            "needs_background": "light"
          }
        }
      ]
    },
    {
      "cell_type": "markdown",
      "metadata": {
        "id": "NCjrXNGteYKp"
      },
      "source": [
        "# **보스턴 주택 가격 데이터세트(Boston Housing Dataset)**"
      ]
    },
    {
      "cell_type": "code",
      "metadata": {
        "colab": {
          "base_uri": "https://localhost:8080/",
          "height": 374
        },
        "id": "M4Cor4oheZ4h",
        "outputId": "1d79186f-d688-4b64-ab04-f9f0a714932c"
      },
      "source": [
        "# 활성화 함수\n",
        "import math\n",
        "def sigmoid(x):\n",
        "    return 1 / (1 + math.exp(-x))\n",
        "\n",
        "x = np.arange(-5, 5, 0.01)\n",
        "sigmoid_x = [sigmoid(z) for z in x]\n",
        "tanh_x = [math.tanh(z) for z in x]\n",
        "relu = [0 if z < 0 else z for z in x]\n",
        "\n",
        "plt.figure(figsize=(8, 6)) \n",
        "\n",
        "plt.axhline(0, color='gray')\n",
        "plt.axvline(0, color='gray')\n",
        "plt.plot(x, sigmoid_x, 'b-', label='sigmoid')\n",
        "plt.plot(x, tanh_x, 'r--', label='tanh')\n",
        "plt.plot(x, relu, 'g.', label='relu')\n",
        "plt.legend()\n",
        "plt.show()"
      ],
      "execution_count": 9,
      "outputs": [
        {
          "output_type": "display_data",
          "data": {
            "image/png": "[encoded data removed]",
            "text/plain": [
              "<Figure size 576x432 with 1 Axes>"
            ]
          },
          "metadata": {
            "tags": [],
            "needs_background": "light"
          }
        }
      ]
    },
    {
      "cell_type": "code",
      "metadata": {
        "colab": {
          "base_uri": "https://localhost:8080/"
        },
        "id": "-5FfiYO6ebky",
        "outputId": "5b2c81d3-703f-4921-c0e3-552dde903464"
      },
      "source": [
        "# 4.11 데이터 불러오기\n",
        "from tensorflow.keras.datasets import boston_housing\n",
        "(train_X, train_Y), (test_X, test_Y) = boston_housing.load_data()\n",
        "\n",
        "print(train_X.shape, test_X.shape)\n",
        "print(train_X[0])\n",
        "print(train_Y[0])"
      ],
      "execution_count": 10,
      "outputs": [
        {
          "output_type": "stream",
          "text": [
            "Downloading data from https://storage.googleapis.com/tensorflow/tf-keras-datasets/boston_housing.npz\n",
            "57344/57026 [==============================] - 0s 0us/step\n",
            "(404, 13) (102, 13)\n",
            "[  1.23247   0.        8.14      0.        0.538     6.142    91.7\n",
            "   3.9769    4.      307.       21.      396.9      18.72   ]\n",
            "15.2\n"
          ],
          "name": "stdout"
        }
      ]
    },
    {
      "cell_type": "code",
      "metadata": {
        "colab": {
          "base_uri": "https://localhost:8080/"
        },
        "id": "TlqTJF7xecpB",
        "outputId": "c466ad05-655c-4404-ce70-f51e9bae6a28"
      },
      "source": [
        "# 4.12 데이터 전처리(정규화)\n",
        "x_mean = train_X.mean(axis=0)\n",
        "x_std = train_X.std(axis=0)\n",
        "train_X -= x_mean\n",
        "train_X /= x_std\n",
        "test_X -= x_mean\n",
        "test_X /= x_std\n",
        "\n",
        "y_mean = train_Y.mean(axis=0)\n",
        "y_std = train_Y.std(axis=0)\n",
        "train_Y -= y_mean\n",
        "train_Y /= y_std\n",
        "test_Y -= y_mean\n",
        "test_Y /= y_std\n",
        "\n",
        "print(train_X[0])\n",
        "print(train_Y[0])"
      ],
      "execution_count": 11,
      "outputs": [
        {
          "output_type": "stream",
          "text": [
            "[-0.27224633 -0.48361547 -0.43576161 -0.25683275 -0.1652266  -0.1764426\n",
            "  0.81306188  0.1166983  -0.62624905 -0.59517003  1.14850044  0.44807713\n",
            "  0.8252202 ]\n",
            "-0.7821526033779157\n"
          ],
          "name": "stdout"
        }
      ]
    },
    {
      "cell_type": "code",
      "metadata": {
        "colab": {
          "base_uri": "https://localhost:8080/"
        },
        "id": "RexAsWVReeDq",
        "outputId": "ba5c5994-9528-410c-9205-a01d3f4c51e9"
      },
      "source": [
        "# 4.13 Boston Housing Dataset 회귀 모델 생성\n",
        "model = tf.keras.models.Sequential([\n",
        "    tf.keras.layers.Dense(units=52, activation='relu', input_shape=(13,)),\n",
        "    tf.keras.layers.Dense(units=39, activation='relu'),\n",
        "    tf.keras.layers.Dense(units=26, activation='relu'),\n",
        "    tf.keras.layers.Dense(units=1)\n",
        "])\n",
        "\n",
        "model.compile(optimizer=tf.keras.optimizers.Adam(lr=0.07), loss='mse')\n",
        "\n",
        "model.summary()"
      ],
      "execution_count": 12,
      "outputs": [
        {
          "output_type": "stream",
          "text": [
            "Model: \"sequential_2\"\n",
            "_________________________________________________________________\n",
            "Layer (type)                 Output Shape              Param #   \n",
            "=================================================================\n",
            "dense_4 (Dense)              (None, 52)                728       \n",
            "_________________________________________________________________\n",
            "dense_5 (Dense)              (None, 39)                2067      \n",
            "_________________________________________________________________\n",
            "dense_6 (Dense)              (None, 26)                1040      \n",
            "_________________________________________________________________\n",
            "dense_7 (Dense)              (None, 1)                 27        \n",
            "=================================================================\n",
            "Total params: 3,862\n",
            "Trainable params: 3,862\n",
            "Non-trainable params: 0\n",
            "_________________________________________________________________\n"
          ],
          "name": "stdout"
        }
      ]
    },
    {
      "cell_type": "code",
      "metadata": {
        "colab": {
          "base_uri": "https://localhost:8080/"
        },
        "id": "iSKO7D7ZefhJ",
        "outputId": "05800b2e-da99-400e-ee20-445cd27684d9"
      },
      "source": [
        "# 4.14 회귀 모델 학습\n",
        "history = model.fit(train_X, train_Y, epochs=25, batch_size=32, validation_split=0.25)"
      ],
      "execution_count": 13,
      "outputs": [
        {
          "output_type": "stream",
          "text": [
            "Epoch 1/25\n",
            "10/10 [==============================] - 0s 14ms/step - loss: 2.2973 - val_loss: 0.9619\n",
            "Epoch 2/25\n",
            "10/10 [==============================] - 0s 3ms/step - loss: 0.5121 - val_loss: 0.6061\n",
            "Epoch 3/25\n",
            "10/10 [==============================] - 0s 3ms/step - loss: 0.2540 - val_loss: 0.3244\n",
            "Epoch 4/25\n",
            "10/10 [==============================] - 0s 3ms/step - loss: 0.2570 - val_loss: 0.3345\n",
            "Epoch 5/25\n",
            "10/10 [==============================] - 0s 3ms/step - loss: 0.2119 - val_loss: 0.1887\n",
            "Epoch 6/25\n",
            "10/10 [==============================] - 0s 3ms/step - loss: 0.1463 - val_loss: 0.2366\n",
            "Epoch 7/25\n",
            "10/10 [==============================] - 0s 3ms/step - loss: 0.1251 - val_loss: 0.1496\n",
            "Epoch 8/25\n",
            "10/10 [==============================] - 0s 3ms/step - loss: 0.1022 - val_loss: 0.1522\n",
            "Epoch 9/25\n",
            "10/10 [==============================] - 0s 3ms/step - loss: 0.1106 - val_loss: 0.2214\n",
            "Epoch 10/25\n",
            "10/10 [==============================] - 0s 3ms/step - loss: 0.1493 - val_loss: 0.1369\n",
            "Epoch 11/25\n",
            "10/10 [==============================] - 0s 3ms/step - loss: 0.1101 - val_loss: 0.2810\n",
            "Epoch 12/25\n",
            "10/10 [==============================] - 0s 3ms/step - loss: 0.1266 - val_loss: 0.1264\n",
            "Epoch 13/25\n",
            "10/10 [==============================] - 0s 3ms/step - loss: 0.1080 - val_loss: 0.1759\n",
            "Epoch 14/25\n",
            "10/10 [==============================] - 0s 3ms/step - loss: 0.1210 - val_loss: 0.1530\n",
            "Epoch 15/25\n",
            "10/10 [==============================] - 0s 3ms/step - loss: 0.0957 - val_loss: 0.1466\n",
            "Epoch 16/25\n",
            "10/10 [==============================] - 0s 4ms/step - loss: 0.1002 - val_loss: 0.1377\n",
            "Epoch 17/25\n",
            "10/10 [==============================] - 0s 4ms/step - loss: 0.1016 - val_loss: 0.1684\n",
            "Epoch 18/25\n",
            "10/10 [==============================] - 0s 3ms/step - loss: 0.1010 - val_loss: 0.1491\n",
            "Epoch 19/25\n",
            "10/10 [==============================] - 0s 3ms/step - loss: 0.1043 - val_loss: 0.1890\n",
            "Epoch 20/25\n",
            "10/10 [==============================] - 0s 3ms/step - loss: 0.0858 - val_loss: 0.1443\n",
            "Epoch 21/25\n",
            "10/10 [==============================] - 0s 3ms/step - loss: 0.0810 - val_loss: 0.1906\n",
            "Epoch 22/25\n",
            "10/10 [==============================] - 0s 3ms/step - loss: 0.1019 - val_loss: 0.0998\n",
            "Epoch 23/25\n",
            "10/10 [==============================] - 0s 3ms/step - loss: 0.1244 - val_loss: 0.2699\n",
            "Epoch 24/25\n",
            "10/10 [==============================] - 0s 3ms/step - loss: 0.1370 - val_loss: 0.1451\n",
            "Epoch 25/25\n",
            "10/10 [==============================] - 0s 3ms/step - loss: 0.0998 - val_loss: 0.0997\n"
          ],
          "name": "stdout"
        }
      ]
    },
    {
      "cell_type": "code",
      "metadata": {
        "colab": {
          "base_uri": "https://localhost:8080/",
          "height": 279
        },
        "id": "wWHvuSpOeiDx",
        "outputId": "0fd026ab-455e-49b7-f9e2-fe7df7dc2f7e"
      },
      "source": [
        "# 4.15 회귀 모델 학습 결과 시각화\n",
        "import matplotlib.pyplot as plt\n",
        "plt.plot(history.history['loss'], 'b-', label='loss')\n",
        "plt.plot(history.history['val_loss'], 'r--', label='val_loss')\n",
        "plt.xlabel('Epoch')\n",
        "plt.legend()\n",
        "plt.show()"
      ],
      "execution_count": 14,
      "outputs": [
        {
          "output_type": "display_data",
          "data": {
            "image/png": "[encoded data removed]",
            "text/plain": [
              "<Figure size 432x288 with 1 Axes>"
            ]
          },
          "metadata": {
            "tags": [],
            "needs_background": "light"
          }
        }
      ]
    },
    {
      "cell_type": "code",
      "metadata": {
        "colab": {
          "base_uri": "https://localhost:8080/"
        },
        "id": "qlfSjt-ZejfC",
        "outputId": "b4fdeb5c-0c6b-4204-f71d-40fbdb4e09db"
      },
      "source": [
        "# 4.16 회귀 모델 평가\n",
        "model.evaluate(test_X, test_Y)"
      ],
      "execution_count": 15,
      "outputs": [
        {
          "output_type": "stream",
          "text": [
            "4/4 [==============================] - 0s 1ms/step - loss: 0.1567\n"
          ],
          "name": "stdout"
        },
        {
          "output_type": "execute_result",
          "data": {
            "text/plain": [
              "0.15665344893932343"
            ]
          },
          "metadata": {
            "tags": []
          },
          "execution_count": 15
        }
      ]
    },
    {
      "cell_type": "code",
      "metadata": {
        "colab": {
          "base_uri": "https://localhost:8080/",
          "height": 502
        },
        "id": "TkTYvvKVelqy",
        "outputId": "c10f1cdb-6514-47f7-efae-a5d0edf048a1"
      },
      "source": [
        "# 4.17 실제 주택 가격과 예측 주택 가격 시각화\n",
        "import matplotlib.pyplot as plt\n",
        "\n",
        "pred_Y = model.predict(test_X)\n",
        "\n",
        "plt.figure(figsize=(8,8))\n",
        "plt.plot(test_Y, pred_Y, 'b.')\n",
        "plt.axis([min(test_Y), max(test_Y), min(test_Y), max(test_Y)])\n",
        "\n",
        "# y=x에 해당하는 대각선\n",
        "plt.plot([min(test_Y), max(test_Y)], [min(test_Y), max(test_Y)], ls=\"--\", c=\".5\")\n",
        "plt.xlabel('test_Y')\n",
        "plt.ylabel('pred_Y')\n",
        "\n",
        "plt.show()"
      ],
      "execution_count": 16,
      "outputs": [
        {
          "output_type": "display_data",
          "data": {
            "image/png": "[encoded data removed]",
            "text/plain": [
              "<Figure size 576x576 with 1 Axes>"
            ]
          },
          "metadata": {
            "tags": [],
            "needs_background": "light"
          }
        }
      ]
    },
    {
      "cell_type": "code",
      "metadata": {
        "colab": {
          "base_uri": "https://localhost:8080/"
        },
        "id": "gsYk_V79eoFR",
        "outputId": "23d507b1-dce0-4718-9cc2-a8801851d3c3"
      },
      "source": [
        "# 4.18 모델 재정의 및 학습\n",
        "model = tf.keras.Sequential([\n",
        "    tf.keras.layers.Dense(units=52, activation='relu', input_shape=(13,)),\n",
        "    tf.keras.layers.Dense(units=39, activation='relu'),\n",
        "    tf.keras.layers.Dense(units=26, activation='relu'),\n",
        "    tf.keras.layers.Dense(units=1)\n",
        "])\n",
        "\n",
        "model.compile(optimizer=tf.keras.optimizers.Adam(lr=0.07), loss='mse')\n",
        "\n",
        "history = model.fit(train_X, train_Y, epochs=25, batch_size=32, validation_split=0.25,\n",
        "                    callbacks=[tf.keras.callbacks.EarlyStopping(patience=3, monitor='val_loss')])"
      ],
      "execution_count": 17,
      "outputs": [
        {
          "output_type": "stream",
          "text": [
            "Epoch 1/25\n",
            "10/10 [==============================] - 0s 12ms/step - loss: 1.1625 - val_loss: 0.7170\n",
            "Epoch 2/25\n",
            "10/10 [==============================] - 0s 3ms/step - loss: 0.3327 - val_loss: 0.4244\n",
            "Epoch 3/25\n",
            "10/10 [==============================] - 0s 3ms/step - loss: 0.2262 - val_loss: 0.4861\n",
            "Epoch 4/25\n",
            "10/10 [==============================] - 0s 3ms/step - loss: 0.2259 - val_loss: 0.3662\n",
            "Epoch 5/25\n",
            "10/10 [==============================] - 0s 4ms/step - loss: 0.2032 - val_loss: 0.2490\n",
            "Epoch 6/25\n",
            "10/10 [==============================] - 0s 3ms/step - loss: 0.2042 - val_loss: 0.4989\n",
            "Epoch 7/25\n",
            "10/10 [==============================] - 0s 3ms/step - loss: 0.2308 - val_loss: 0.3247\n",
            "Epoch 8/25\n",
            "10/10 [==============================] - 0s 3ms/step - loss: 0.1929 - val_loss: 0.2514\n"
          ],
          "name": "stdout"
        }
      ]
    },
    {
      "cell_type": "code",
      "metadata": {
        "colab": {
          "base_uri": "https://localhost:8080/",
          "height": 281
        },
        "id": "o6sMB6wBephp",
        "outputId": "e326d456-7457-4fe5-e430-daac39ee8cb1"
      },
      "source": [
        "# 4.19 회귀 모델 학습 결과 시각화\n",
        "import matplotlib.pyplot as plt\n",
        "plt.plot(history.history['loss'], 'b-', label='loss')\n",
        "plt.plot(history.history['val_loss'], 'r--', label='val_loss')\n",
        "plt.xlabel('Epoch')\n",
        "plt.legend()\n",
        "plt.show()"
      ],
      "execution_count": 18,
      "outputs": [
        {
          "output_type": "display_data",
          "data": {
            "image/png": "[encoded data removed]",
            "text/plain": [
              "<Figure size 432x288 with 1 Axes>"
            ]
          },
          "metadata": {
            "tags": [],
            "needs_background": "light"
          }
        }
      ]
    },
    {
      "cell_type": "code",
      "metadata": {
        "colab": {
          "base_uri": "https://localhost:8080/"
        },
        "id": "Mvgd7UZEesEa",
        "outputId": "632f1bb1-5a4b-415f-a396-5a842c2f89fc"
      },
      "source": [
        "# 4.20 회귀 모델 평가\n",
        "model.evaluate(test_X, test_Y)"
      ],
      "execution_count": 19,
      "outputs": [
        {
          "output_type": "stream",
          "text": [
            "4/4 [==============================] - 0s 2ms/step - loss: 0.4090\n"
          ],
          "name": "stdout"
        },
        {
          "output_type": "execute_result",
          "data": {
            "text/plain": [
              "0.4089994728565216"
            ]
          },
          "metadata": {
            "tags": []
          },
          "execution_count": 19
        }
      ]
    },
    {
      "cell_type": "code",
      "metadata": {
        "colab": {
          "base_uri": "https://localhost:8080/",
          "height": 502
        },
        "id": "LjHyByqVeuvR",
        "outputId": "0d29b1f2-1e87-4fba-9a09-323ac2910a28"
      },
      "source": [
        "# 4.21 실제 주택 가격과 예측 주택 가격 시각화\n",
        "import matplotlib.pyplot as plt\n",
        "\n",
        "pred_Y = model.predict(test_X)\n",
        "\n",
        "plt.figure(figsize=(8,8))\n",
        "plt.plot(test_Y, pred_Y, 'b.')\n",
        "plt.axis([min(test_Y), max(test_Y), min(test_Y), max(test_Y)])\n",
        "\n",
        "plt.plot([min(test_Y), max(test_Y)], [min(test_Y), max(test_Y)], ls=\"--\", c=\".3\")\n",
        "plt.xlabel('test_Y')\n",
        "plt.ylabel('pred_Y')\n",
        "\n",
        "plt.show()"
      ],
      "execution_count": 20,
      "outputs": [
        {
          "output_type": "display_data",
          "data": {
            "image/png": "[encoded data removed]",
            "text/plain": [
              "<Figure size 576x576 with 1 Axes>"
            ]
          },
          "metadata": {
            "tags": [],
            "needs_background": "light"
          }
        }
      ]
    },
    {
      "cell_type": "code",
      "metadata": {
        "colab": {
          "base_uri": "https://localhost:8080/"
        },
        "id": "LO5K63ugeyQL",
        "outputId": "e115e550-9e00-4dfd-fb19-9adfb9f820c8"
      },
      "source": [
        "# 모델 재정의 및 학습, dropout 사용\n",
        "model = tf.keras.Sequential([\n",
        "    tf.keras.layers.Dense(units=52, activation='relu', input_shape=(13,)),\n",
        "    tf.keras.layers.Dropout(.1),\n",
        "    tf.keras.layers.Dense(units=39, activation='relu'),\n",
        "    tf.keras.layers.Dense(units=26, activation='relu'),\n",
        "    tf.keras.layers.Dropout(.1),\n",
        "    tf.keras.layers.Dense(units=1)\n",
        "])\n",
        "\n",
        "model.compile(optimizer=tf.keras.optimizers.Adam(lr=0.07), loss='mse')\n",
        "\n",
        "history = model.fit(train_X, train_Y, epochs=25, batch_size=32, validation_split=0.25,\n",
        "                    callbacks=[tf.keras.callbacks.EarlyStopping(patience=4, monitor='val_loss')])"
      ],
      "execution_count": 21,
      "outputs": [
        {
          "output_type": "stream",
          "text": [
            "Epoch 1/25\n",
            "10/10 [==============================] - 0s 12ms/step - loss: 1.1937 - val_loss: 1.1474\n",
            "Epoch 2/25\n",
            "10/10 [==============================] - 0s 3ms/step - loss: 0.4373 - val_loss: 0.3310\n",
            "Epoch 3/25\n",
            "10/10 [==============================] - 0s 3ms/step - loss: 0.2721 - val_loss: 0.3093\n",
            "Epoch 4/25\n",
            "10/10 [==============================] - 0s 3ms/step - loss: 0.2667 - val_loss: 0.2447\n",
            "Epoch 5/25\n",
            "10/10 [==============================] - 0s 3ms/step - loss: 0.3091 - val_loss: 0.6990\n",
            "Epoch 6/25\n",
            "10/10 [==============================] - 0s 5ms/step - loss: 0.3493 - val_loss: 0.5099\n",
            "Epoch 7/25\n",
            "10/10 [==============================] - 0s 3ms/step - loss: 0.3487 - val_loss: 0.4500\n",
            "Epoch 8/25\n",
            "10/10 [==============================] - 0s 3ms/step - loss: 0.3310 - val_loss: 0.4308\n"
          ],
          "name": "stdout"
        }
      ]
    },
    {
      "cell_type": "code",
      "metadata": {
        "colab": {
          "base_uri": "https://localhost:8080/",
          "height": 279
        },
        "id": "LsQzr048ezKR",
        "outputId": "4b5f7081-35c8-4b6d-c50c-4aa14f6b1448"
      },
      "source": [
        "# 4.19 회귀 모델 학습 결과 시각화\n",
        "import matplotlib.pyplot as plt\n",
        "plt.plot(history.history['loss'], 'b-', label='loss')\n",
        "plt.plot(history.history['val_loss'], 'r--', label='val_loss')\n",
        "plt.xlabel('Epoch')\n",
        "plt.legend()\n",
        "plt.show()"
      ],
      "execution_count": 22,
      "outputs": [
        {
          "output_type": "display_data",
          "data": {
            "image/png": "[encoded data removed]",
            "text/plain": [
              "<Figure size 432x288 with 1 Axes>"
            ]
          },
          "metadata": {
            "tags": [],
            "needs_background": "light"
          }
        }
      ]
    },
    {
      "cell_type": "code",
      "metadata": {
        "colab": {
          "base_uri": "https://localhost:8080/"
        },
        "id": "cbdpmSKDe0jB",
        "outputId": "f98eef85-7e49-41e4-c36b-876b689df88b"
      },
      "source": [
        "# 4.20 회귀 모델 평가\n",
        "model.evaluate(test_X, test_Y)"
      ],
      "execution_count": 23,
      "outputs": [
        {
          "output_type": "stream",
          "text": [
            "4/4 [==============================] - 0s 2ms/step - loss: 0.4400\n"
          ],
          "name": "stdout"
        },
        {
          "output_type": "execute_result",
          "data": {
            "text/plain": [
              "0.4400499761104584"
            ]
          },
          "metadata": {
            "tags": []
          },
          "execution_count": 23
        }
      ]
    },
    {
      "cell_type": "code",
      "metadata": {
        "colab": {
          "base_uri": "https://localhost:8080/",
          "height": 541
        },
        "id": "j_SEY_7ue1lB",
        "outputId": "e9c41362-b8cd-4d15-d22e-4cc9359cc759"
      },
      "source": [
        "# 4.21 실제 주택 가격과 예측 주택 가격 시각화\n",
        "import matplotlib.pyplot as plt\n",
        "\n",
        "pred_Y = model.predict(test_X)\n",
        "\n",
        "plt.figure(figsize=(8,8))\n",
        "plt.plot(test_Y, pred_Y, 'b.')\n",
        "plt.axis([min(test_Y), max(test_Y), min(test_Y), max(test_Y)])\n",
        "\n",
        "plt.plot([min(test_Y), max(test_Y)], [min(test_Y), max(test_Y)], ls=\"--\", c=\".3\")\n",
        "plt.xlabel('test_Y')\n",
        "plt.ylabel('pred_Y')\n",
        "\n",
        "plt.show()"
      ],
      "execution_count": 24,
      "outputs": [
        {
          "output_type": "stream",
          "text": [
            "WARNING:tensorflow:5 out of the last 22 calls to <function Model.make_predict_function.<locals>.predict_function at 0x7f4225c0e9d8> triggered tf.function retracing. Tracing is expensive and the excessive number of tracings could be due to (1) creating @tf.function repeatedly in a loop, (2) passing tensors with different shapes, (3) passing Python objects instead of tensors. For (1), please define your @tf.function outside of the loop. For (2), @tf.function has experimental_relax_shapes=True option that relaxes argument shapes that can avoid unnecessary retracing. For (3), please refer to https://www.tensorflow.org/tutorials/customization/performance#python_or_tensor_args and https://www.tensorflow.org/api_docs/python/tf/function for  more details.\n"
          ],
          "name": "stdout"
        },
        {
          "output_type": "display_data",
          "data": {
            "image/png": "[encoded data removed]",
            "text/plain": [
              "<Figure size 576x576 with 1 Axes>"
            ]
          },
          "metadata": {
            "tags": [],
            "needs_background": "light"
          }
        }
      ]
    }
  ]
}