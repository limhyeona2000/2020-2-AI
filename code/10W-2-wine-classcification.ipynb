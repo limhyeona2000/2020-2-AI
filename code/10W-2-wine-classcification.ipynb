{
  "nbformat": 4,
  "nbformat_minor": 0,
  "metadata": {
    "colab": {
      "name": "10W-2-wine-classcification.ipynb",
      "provenance": [],
      "authorship_tag": "ABX9TyNzkZP5iqq1EuKZWkcXo9Lm",
      "include_colab_link": true
    },
    "kernelspec": {
      "name": "python3",
      "display_name": "Python 3"
    }
  },
  "cells": [
    {
      "cell_type": "markdown",
      "metadata": {
        "id": "view-in-github",
        "colab_type": "text"
      },
      "source": [
        "<a href=\"https://colab.research.google.com/github/limhyeona2000/2020-2-AI/blob/master/code/10W-2-wine-classcification.ipynb\" target=\"_parent\"><img src=\"https://colab.research.google.com/assets/colab-badge.svg\" alt=\"Open In Colab\"/></a>"
      ]
    },
    {
      "cell_type": "markdown",
      "metadata": {
        "id": "sCEPkQGoisbJ"
      },
      "source": [
        "#5.1 이항 분류"
      ]
    },
    {
      "cell_type": "code",
      "metadata": {
        "id": "OJrnujMKir_0"
      },
      "source": [
        "# 텐서플로 2 버전 선택\n",
        "try:\n",
        "    # %tensorflow_version only exists in Colab.\n",
        "    %tensorflow_version 2.x\n",
        "except Exception:\n",
        "    pass"
      ],
      "execution_count": 1,
      "outputs": []
    },
    {
      "cell_type": "code",
      "metadata": {
        "colab": {
          "base_uri": "https://localhost:8080/"
        },
        "id": "H51aJ8Ooiwu3",
        "outputId": "efc99896-12b7-4ba5-d8e1-a169872bd5d0"
      },
      "source": [
        "# 5.1 와인 데이터셋 불러오기\n",
        "import pandas as pd\n",
        "red = pd.read_csv('http://archive.ics.uci.edu/ml/machine-learning-databases/wine-quality/winequality-red.csv', sep=';')\n",
        "white = pd.read_csv('http://archive.ics.uci.edu/ml/machine-learning-databases/wine-quality/winequality-white.csv', sep=';')\n",
        "print(red.head())\n",
        "print(white.head())"
      ],
      "execution_count": 2,
      "outputs": [
        {
          "output_type": "stream",
          "text": [
            "   fixed acidity  volatile acidity  citric acid  ...  sulphates  alcohol  quality\n",
            "0            7.4              0.70         0.00  ...       0.56      9.4        5\n",
            "1            7.8              0.88         0.00  ...       0.68      9.8        5\n",
            "2            7.8              0.76         0.04  ...       0.65      9.8        5\n",
            "3           11.2              0.28         0.56  ...       0.58      9.8        6\n",
            "4            7.4              0.70         0.00  ...       0.56      9.4        5\n",
            "\n",
            "[5 rows x 12 columns]\n",
            "   fixed acidity  volatile acidity  citric acid  ...  sulphates  alcohol  quality\n",
            "0            7.0              0.27         0.36  ...       0.45      8.8        6\n",
            "1            6.3              0.30         0.34  ...       0.49      9.5        6\n",
            "2            8.1              0.28         0.40  ...       0.44     10.1        6\n",
            "3            7.2              0.23         0.32  ...       0.40      9.9        6\n",
            "4            7.2              0.23         0.32  ...       0.40      9.9        6\n",
            "\n",
            "[5 rows x 12 columns]\n"
          ],
          "name": "stdout"
        }
      ]
    },
    {
      "cell_type": "code",
      "metadata": {
        "colab": {
          "base_uri": "https://localhost:8080/"
        },
        "id": "teIGncVpiyen",
        "outputId": "54ef54a5-2905-44d4-8a5a-d40dd9486d56"
      },
      "source": [
        "print(red.shape)\n",
        "print(white.shape)"
      ],
      "execution_count": 3,
      "outputs": [
        {
          "output_type": "stream",
          "text": [
            "(1599, 12)\n",
            "(4898, 12)\n"
          ],
          "name": "stdout"
        }
      ]
    },
    {
      "cell_type": "code",
      "metadata": {
        "colab": {
          "base_uri": "https://localhost:8080/"
        },
        "id": "IOH57zWnizhg",
        "outputId": "3edd98ff-bc9a-4d60-f1e5-e278ba8037f8"
      },
      "source": [
        "# 5.2 와인 데이터셋 합치기\n",
        "red['type'] = 0\n",
        "white['type'] = 1\n",
        "print(red.head(2))\n",
        "print(white.head(2))\n",
        "\n",
        "wine = pd.concat([red, white])\n",
        "print(wine.describe())"
      ],
      "execution_count": 4,
      "outputs": [
        {
          "output_type": "stream",
          "text": [
            "   fixed acidity  volatile acidity  citric acid  ...  alcohol  quality  type\n",
            "0            7.4              0.70          0.0  ...      9.4        5     0\n",
            "1            7.8              0.88          0.0  ...      9.8        5     0\n",
            "\n",
            "[2 rows x 13 columns]\n",
            "   fixed acidity  volatile acidity  citric acid  ...  alcohol  quality  type\n",
            "0            7.0              0.27         0.36  ...      8.8        6     1\n",
            "1            6.3              0.30         0.34  ...      9.5        6     1\n",
            "\n",
            "[2 rows x 13 columns]\n",
            "       fixed acidity  volatile acidity  ...      quality         type\n",
            "count    6497.000000       6497.000000  ...  6497.000000  6497.000000\n",
            "mean        7.215307          0.339666  ...     5.818378     0.753886\n",
            "std         1.296434          0.164636  ...     0.873255     0.430779\n",
            "min         3.800000          0.080000  ...     3.000000     0.000000\n",
            "25%         6.400000          0.230000  ...     5.000000     1.000000\n",
            "50%         7.000000          0.290000  ...     6.000000     1.000000\n",
            "75%         7.700000          0.400000  ...     6.000000     1.000000\n",
            "max        15.900000          1.580000  ...     9.000000     1.000000\n",
            "\n",
            "[8 rows x 13 columns]\n"
          ],
          "name": "stdout"
        }
      ]
    },
    {
      "cell_type": "code",
      "metadata": {
        "colab": {
          "base_uri": "https://localhost:8080/",
          "height": 322
        },
        "id": "UnvOK7Q6i1Do",
        "outputId": "f8c8999e-845f-482b-ff00-f6bcadf1359c"
      },
      "source": [
        "# 5.3 레드 와인과 화이트 와인 type 히스토그램\n",
        "import matplotlib.pyplot as plt\n",
        "plt.hist(wine['type'])\n",
        "plt.xticks([0, 1])\n",
        "#plt.xticks([0, 1], ['red', 'white'])\n",
        "plt.show()\n",
        "\n",
        "print(wine['type'].value_counts())"
      ],
      "execution_count": 5,
      "outputs": [
        {
          "output_type": "display_data",
          "data": {
            "image/png": "[encoded data removed]",
            "text/plain": [
              "<Figure size 432x288 with 1 Axes>"
            ]
          },
          "metadata": {
            "tags": [],
            "needs_background": "light"
          }
        },
        {
          "output_type": "stream",
          "text": [
            "1    4898\n",
            "0    1599\n",
            "Name: type, dtype: int64\n"
          ],
          "name": "stdout"
        }
      ]
    },
    {
      "cell_type": "code",
      "metadata": {
        "colab": {
          "base_uri": "https://localhost:8080/"
        },
        "id": "gKs46bMvi3EX",
        "outputId": "976b20ff-234c-44cd-de06-d948b15f2328"
      },
      "source": [
        "# 5.4 데이터 요약 정보 확인\n",
        "print(wine.info())"
      ],
      "execution_count": 6,
      "outputs": [
        {
          "output_type": "stream",
          "text": [
            "<class 'pandas.core.frame.DataFrame'>\n",
            "Int64Index: 6497 entries, 0 to 4897\n",
            "Data columns (total 13 columns):\n",
            " #   Column                Non-Null Count  Dtype  \n",
            "---  ------                --------------  -----  \n",
            " 0   fixed acidity         6497 non-null   float64\n",
            " 1   volatile acidity      6497 non-null   float64\n",
            " 2   citric acid           6497 non-null   float64\n",
            " 3   residual sugar        6497 non-null   float64\n",
            " 4   chlorides             6497 non-null   float64\n",
            " 5   free sulfur dioxide   6497 non-null   float64\n",
            " 6   total sulfur dioxide  6497 non-null   float64\n",
            " 7   density               6497 non-null   float64\n",
            " 8   pH                    6497 non-null   float64\n",
            " 9   sulphates             6497 non-null   float64\n",
            " 10  alcohol               6497 non-null   float64\n",
            " 11  quality               6497 non-null   int64  \n",
            " 12  type                  6497 non-null   int64  \n",
            "dtypes: float64(11), int64(2)\n",
            "memory usage: 710.6 KB\n",
            "None\n"
          ],
          "name": "stdout"
        }
      ]
    },
    {
      "cell_type": "code",
      "metadata": {
        "colab": {
          "base_uri": "https://localhost:8080/"
        },
        "id": "ZcNdjeiRi4S4",
        "outputId": "ba00a831-28b9-411e-a5de-10976a835dcd"
      },
      "source": [
        "# 5.5 데이터 정규화\n",
        "wine_norm = (wine - wine.min()) / (wine.max() - wine.min())\n",
        "print(wine_norm.head())\n",
        "print(wine_norm.describe())"
      ],
      "execution_count": 7,
      "outputs": [
        {
          "output_type": "stream",
          "text": [
            "   fixed acidity  volatile acidity  citric acid  ...   alcohol   quality  type\n",
            "0       0.297521          0.413333     0.000000  ...  0.202899  0.333333   0.0\n",
            "1       0.330579          0.533333     0.000000  ...  0.260870  0.333333   0.0\n",
            "2       0.330579          0.453333     0.024096  ...  0.260870  0.333333   0.0\n",
            "3       0.611570          0.133333     0.337349  ...  0.260870  0.500000   0.0\n",
            "4       0.297521          0.413333     0.000000  ...  0.202899  0.333333   0.0\n",
            "\n",
            "[5 rows x 13 columns]\n",
            "       fixed acidity  volatile acidity  ...      quality         type\n",
            "count    6497.000000       6497.000000  ...  6497.000000  6497.000000\n",
            "mean        0.282257          0.173111  ...     0.469730     0.753886\n",
            "std         0.107143          0.109758  ...     0.145543     0.430779\n",
            "min         0.000000          0.000000  ...     0.000000     0.000000\n",
            "25%         0.214876          0.100000  ...     0.333333     1.000000\n",
            "50%         0.264463          0.140000  ...     0.500000     1.000000\n",
            "75%         0.322314          0.213333  ...     0.500000     1.000000\n",
            "max         1.000000          1.000000  ...     1.000000     1.000000\n",
            "\n",
            "[8 rows x 13 columns]\n"
          ],
          "name": "stdout"
        }
      ]
    },
    {
      "cell_type": "code",
      "metadata": {
        "colab": {
          "base_uri": "https://localhost:8080/"
        },
        "id": "MJeGbRRxi5tX",
        "outputId": "500f18cb-87c8-4f7d-98a4-aa0d3945f1e4"
      },
      "source": [
        "# 5.6 데이터 섞은 후 numpy array로 변환\n",
        "import numpy as np\n",
        "wine_shuffle = wine_norm.sample(frac=1)\n",
        "print(wine_shuffle.head())\n",
        "wine_np = wine_shuffle.to_numpy()\n",
        "print(wine_np[:5])"
      ],
      "execution_count": 8,
      "outputs": [
        {
          "output_type": "stream",
          "text": [
            "      fixed acidity  volatile acidity  citric acid  ...   alcohol   quality  type\n",
            "1261       0.206612          0.626667     0.000000  ...  0.463768  0.166667   0.0\n",
            "262        0.256198          0.133333     0.240964  ...  0.318841  0.333333   1.0\n",
            "1387       0.297521          0.373333     0.042169  ...  0.231884  0.333333   0.0\n",
            "127        0.355372          0.833333     0.000000  ...  0.420290  0.333333   0.0\n",
            "609        0.206612          0.186667     0.114458  ...  0.681159  0.500000   0.0\n",
            "\n",
            "[5 rows x 13 columns]\n",
            "[[0.20661157 0.62666667 0.         0.02147239 0.12292359 0.05555556\n",
            "  0.04147465 0.1399653  0.6744186  0.18539326 0.46376812 0.16666667\n",
            "  0.        ]\n",
            " [0.25619835 0.13333333 0.24096386 0.11656442 0.0448505  0.04861111\n",
            "  0.20506912 0.14054367 0.34883721 0.06179775 0.31884058 0.33333333\n",
            "  1.        ]\n",
            " [0.29752066 0.37333333 0.04216867 0.01840491 0.15116279 0.02430556\n",
            "  0.03917051 0.17331791 0.4496124  0.20224719 0.23188406 0.33333333\n",
            "  0.        ]\n",
            " [0.3553719  0.83333333 0.         0.01840491 0.12126246 0.00694444\n",
            "  0.01382488 0.1791016  0.63565891 0.14606742 0.42028986 0.33333333\n",
            "  0.        ]\n",
            " [0.20661157 0.18666667 0.11445783 0.0398773  0.10963455 0.04861111\n",
            "  0.07603687 0.16367843 0.65116279 0.16853933 0.68115942 0.5\n",
            "  0.        ]]\n"
          ],
          "name": "stdout"
        }
      ]
    },
    {
      "cell_type": "code",
      "metadata": {
        "colab": {
          "base_uri": "https://localhost:8080/"
        },
        "id": "ECD_9iR5i75o",
        "outputId": "a709b739-a980-43c3-9ff8-ce5e797e11ae"
      },
      "source": [
        "# 5.7 train 데이터와 test 데이터로 분리\n",
        "import tensorflow as tf\n",
        "train_idx = int(len(wine_np) * 0.8)\n",
        "train_X, train_Y = wine_np[:train_idx, :-1], wine_np[:train_idx, -1]\n",
        "test_X, test_Y = wine_np[train_idx:, :-1], wine_np[train_idx:, -1]\n",
        "print(train_X[0])\n",
        "print(train_Y[0])\n",
        "print(test_X[0])\n",
        "print(test_Y[0])\n",
        "train_Y = tf.keras.utils.to_categorical(train_Y, num_classes=2)\n",
        "test_Y = tf.keras.utils.to_categorical(test_Y, num_classes=2)\n",
        "print(train_Y[0])\n",
        "print(test_Y[0])"
      ],
      "execution_count": 9,
      "outputs": [
        {
          "output_type": "stream",
          "text": [
            "[0.20661157 0.62666667 0.         0.02147239 0.12292359 0.05555556\n",
            " 0.04147465 0.1399653  0.6744186  0.18539326 0.46376812 0.16666667]\n",
            "0.0\n",
            "[0.26446281 0.09333333 0.1686747  0.15337423 0.04983389 0.10763889\n",
            " 0.25576037 0.12415655 0.25581395 0.18539326 0.50724638 0.66666667]\n",
            "1.0\n",
            "[1. 0.]\n",
            "[0. 1.]\n"
          ],
          "name": "stdout"
        }
      ]
    },
    {
      "cell_type": "code",
      "metadata": {
        "colab": {
          "base_uri": "https://localhost:8080/"
        },
        "id": "Sdn6DdjGi9I3",
        "outputId": "dbee546c-38c0-494c-aba4-c0f89631c901"
      },
      "source": [
        "# 5.8 와인 데이터셋 분류 모델 생성\n",
        "import tensorflow as tf\n",
        "model = tf.keras.Sequential([\n",
        "    tf.keras.layers.Dense(units=48, activation='relu', input_shape=(12,)),\n",
        "    tf.keras.layers.Dense(units=24, activation='relu'),\n",
        "    tf.keras.layers.Dense(units=12, activation='relu'),\n",
        "    tf.keras.layers.Dense(units=2, activation='softmax')\n",
        "])\n",
        "\n",
        "model.compile(optimizer=tf.keras.optimizers.Adam(lr=0.07), loss='categorical_crossentropy', metrics=['accuracy'])\n",
        "\n",
        "model.summary()"
      ],
      "execution_count": 10,
      "outputs": [
        {
          "output_type": "stream",
          "text": [
            "Model: \"sequential\"\n",
            "_________________________________________________________________\n",
            "Layer (type)                 Output Shape              Param #   \n",
            "=================================================================\n",
            "dense (Dense)                (None, 48)                624       \n",
            "_________________________________________________________________\n",
            "dense_1 (Dense)              (None, 24)                1176      \n",
            "_________________________________________________________________\n",
            "dense_2 (Dense)              (None, 12)                300       \n",
            "_________________________________________________________________\n",
            "dense_3 (Dense)              (None, 2)                 26        \n",
            "=================================================================\n",
            "Total params: 2,126\n",
            "Trainable params: 2,126\n",
            "Non-trainable params: 0\n",
            "_________________________________________________________________\n"
          ],
          "name": "stdout"
        }
      ]
    },
    {
      "cell_type": "code",
      "metadata": {
        "colab": {
          "base_uri": "https://localhost:8080/",
          "height": 279
        },
        "id": "ZcgzgdObi914",
        "outputId": "49a11532-f5bb-4d2f-f895-1222b1e33c12"
      },
      "source": [
        "# 그림 5.5 출력 코드\n",
        "import matplotlib.pyplot as plt\n",
        "import math\n",
        "import numpy as np\n",
        "x = np.arange(-2, 2, 0.01)\n",
        "e_x = math.e ** x\n",
        "\n",
        "plt.axhline(0, color='gray')\n",
        "plt.axvline(0, color='gray')\n",
        "plt.plot(x, x, 'b-', label='y=x')\n",
        "plt.plot(x, e_x, 'g.', label='y=e^x')\n",
        "plt.xlabel('X')\n",
        "plt.ylabel('Y')\n",
        "plt.legend()\n",
        "plt.show()"
      ],
      "execution_count": 11,
      "outputs": [
        {
          "output_type": "display_data",
          "data": {
            "image/png": "[encoded data removed]",
            "text/plain": [
              "<Figure size 432x288 with 1 Axes>"
            ]
          },
          "metadata": {
            "tags": [],
            "needs_background": "light"
          }
        }
      ]
    },
    {
      "cell_type": "code",
      "metadata": {
        "colab": {
          "base_uri": "https://localhost:8080/"
        },
        "id": "nLZdG4pKi_VH",
        "outputId": "200968c7-3549-4297-9adc-33f336e91d63"
      },
      "source": [
        "# 5.9 와인 데이터셋 분류 모델 학습\n",
        "history = model.fit(train_X, train_Y, epochs=25, batch_size=32, validation_split=0.25)"
      ],
      "execution_count": 12,
      "outputs": [
        {
          "output_type": "stream",
          "text": [
            "Epoch 1/25\n",
            "122/122 [==============================] - 0s 3ms/step - loss: 0.1584 - accuracy: 0.9369 - val_loss: 0.0575 - val_accuracy: 0.9815\n",
            "Epoch 2/25\n",
            "122/122 [==============================] - 0s 2ms/step - loss: 0.0618 - accuracy: 0.9828 - val_loss: 0.0445 - val_accuracy: 0.9877\n",
            "Epoch 3/25\n",
            "122/122 [==============================] - 0s 2ms/step - loss: 0.0605 - accuracy: 0.9859 - val_loss: 0.0469 - val_accuracy: 0.9869\n",
            "Epoch 4/25\n",
            "122/122 [==============================] - 0s 2ms/step - loss: 0.0698 - accuracy: 0.9843 - val_loss: 0.0721 - val_accuracy: 0.9754\n",
            "Epoch 5/25\n",
            "122/122 [==============================] - 0s 2ms/step - loss: 0.0681 - accuracy: 0.9841 - val_loss: 0.0449 - val_accuracy: 0.9900\n",
            "Epoch 6/25\n",
            "122/122 [==============================] - 0s 2ms/step - loss: 0.0467 - accuracy: 0.9897 - val_loss: 0.0353 - val_accuracy: 0.9908\n",
            "Epoch 7/25\n",
            "122/122 [==============================] - 0s 2ms/step - loss: 0.0463 - accuracy: 0.9895 - val_loss: 0.0501 - val_accuracy: 0.9862\n",
            "Epoch 8/25\n",
            "122/122 [==============================] - 0s 1ms/step - loss: 0.0587 - accuracy: 0.9846 - val_loss: 0.0494 - val_accuracy: 0.9862\n",
            "Epoch 9/25\n",
            "122/122 [==============================] - 0s 2ms/step - loss: 0.0411 - accuracy: 0.9918 - val_loss: 0.0548 - val_accuracy: 0.9862\n",
            "Epoch 10/25\n",
            "122/122 [==============================] - 0s 2ms/step - loss: 0.0405 - accuracy: 0.9915 - val_loss: 0.1345 - val_accuracy: 0.9654\n",
            "Epoch 11/25\n",
            "122/122 [==============================] - 0s 2ms/step - loss: 0.0587 - accuracy: 0.9828 - val_loss: 0.0444 - val_accuracy: 0.9877\n",
            "Epoch 12/25\n",
            "122/122 [==============================] - 0s 2ms/step - loss: 0.0369 - accuracy: 0.9915 - val_loss: 0.0463 - val_accuracy: 0.9869\n",
            "Epoch 13/25\n",
            "122/122 [==============================] - 0s 2ms/step - loss: 0.0367 - accuracy: 0.9900 - val_loss: 0.0323 - val_accuracy: 0.9915\n",
            "Epoch 14/25\n",
            "122/122 [==============================] - 0s 1ms/step - loss: 0.0319 - accuracy: 0.9928 - val_loss: 0.0312 - val_accuracy: 0.9938\n",
            "Epoch 15/25\n",
            "122/122 [==============================] - 0s 1ms/step - loss: 0.0291 - accuracy: 0.9944 - val_loss: 0.0930 - val_accuracy: 0.9785\n",
            "Epoch 16/25\n",
            "122/122 [==============================] - 0s 1ms/step - loss: 0.0452 - accuracy: 0.9872 - val_loss: 0.0416 - val_accuracy: 0.9885\n",
            "Epoch 17/25\n",
            "122/122 [==============================] - 0s 2ms/step - loss: 0.0312 - accuracy: 0.9928 - val_loss: 0.0393 - val_accuracy: 0.9931\n",
            "Epoch 18/25\n",
            "122/122 [==============================] - 0s 2ms/step - loss: 0.0274 - accuracy: 0.9938 - val_loss: 0.0438 - val_accuracy: 0.9931\n",
            "Epoch 19/25\n",
            "122/122 [==============================] - 0s 1ms/step - loss: 0.0296 - accuracy: 0.9938 - val_loss: 0.0377 - val_accuracy: 0.9915\n",
            "Epoch 20/25\n",
            "122/122 [==============================] - 0s 2ms/step - loss: 0.0282 - accuracy: 0.9936 - val_loss: 0.0444 - val_accuracy: 0.9931\n",
            "Epoch 21/25\n",
            "122/122 [==============================] - 0s 1ms/step - loss: 0.0372 - accuracy: 0.9910 - val_loss: 0.0561 - val_accuracy: 0.9877\n",
            "Epoch 22/25\n",
            "122/122 [==============================] - 0s 1ms/step - loss: 0.0278 - accuracy: 0.9938 - val_loss: 0.0486 - val_accuracy: 0.9915\n",
            "Epoch 23/25\n",
            "122/122 [==============================] - 0s 1ms/step - loss: 0.0685 - accuracy: 0.9802 - val_loss: 0.0414 - val_accuracy: 0.9869\n",
            "Epoch 24/25\n",
            "122/122 [==============================] - 0s 2ms/step - loss: 0.1061 - accuracy: 0.9677 - val_loss: 0.0524 - val_accuracy: 0.9931\n",
            "Epoch 25/25\n",
            "122/122 [==============================] - 0s 2ms/step - loss: 0.0425 - accuracy: 0.9905 - val_loss: 0.0360 - val_accuracy: 0.9892\n"
          ],
          "name": "stdout"
        }
      ]
    },
    {
      "cell_type": "code",
      "metadata": {
        "colab": {
          "base_uri": "https://localhost:8080/",
          "height": 283
        },
        "id": "XthTUrm2jA3X",
        "outputId": "fc4fd66c-d5eb-4863-f18e-1d84113d465f"
      },
      "source": [
        "# 5.10 분류 모델 학습 결과 시각화\n",
        "import matplotlib.pyplot as plt\n",
        "plt.figure(figsize=(12, 4))\n",
        "\n",
        "plt.subplot(1, 2, 1)\n",
        "plt.plot(history.history['loss'], 'b-', label='loss')\n",
        "plt.plot(history.history['val_loss'], 'r--', label='val_loss')\n",
        "plt.xlabel('Epoch')\n",
        "plt.legend()\n",
        "\n",
        "plt.subplot(1, 2, 2)\n",
        "plt.plot(history.history['accuracy'], 'g-', label='accuracy')\n",
        "plt.plot(history.history['val_accuracy'], 'k--', label='val_accuracy')\n",
        "plt.xlabel('Epoch')\n",
        "plt.ylim(0.7, 1)\n",
        "plt.legend()\n",
        "\n",
        "plt.show()"
      ],
      "execution_count": 13,
      "outputs": [
        {
          "output_type": "display_data",
          "data": {
            "image/png": "[encoded data removed]",
            "text/plain": [
              "<Figure size 864x288 with 2 Axes>"
            ]
          },
          "metadata": {
            "tags": [],
            "needs_background": "light"
          }
        }
      ]
    },
    {
      "cell_type": "code",
      "metadata": {
        "colab": {
          "base_uri": "https://localhost:8080/"
        },
        "id": "NAqMajWljEUJ",
        "outputId": "e64b7f45-a26e-472d-93b6-e688f8edec43"
      },
      "source": [
        "# 5.11 분류 모델 평가\n",
        "model.evaluate(test_X, test_Y)"
      ],
      "execution_count": 14,
      "outputs": [
        {
          "output_type": "stream",
          "text": [
            "41/41 [==============================] - 0s 867us/step - loss: 0.0253 - accuracy: 0.9923\n"
          ],
          "name": "stdout"
        },
        {
          "output_type": "execute_result",
          "data": {
            "text/plain": [
              "[0.025277797132730484, 0.9923076629638672]"
            ]
          },
          "metadata": {
            "tags": []
          },
          "execution_count": 14
        }
      ]
    },
    {
      "cell_type": "markdown",
      "metadata": {
        "id": "NI-BBLzDjGMh"
      },
      "source": [
        "# 5.2 다항 분류"
      ]
    },
    {
      "cell_type": "code",
      "metadata": {
        "colab": {
          "base_uri": "https://localhost:8080/"
        },
        "id": "pS00q-abjH3_",
        "outputId": "93d22635-13fa-42a0-d867-538f8817afb8"
      },
      "source": [
        "# 5.12 품질 데이터 확인\n",
        "print(wine['quality'].describe())\n",
        "print(wine['quality'].value_counts())"
      ],
      "execution_count": 15,
      "outputs": [
        {
          "output_type": "stream",
          "text": [
            "count    6497.000000\n",
            "mean        5.818378\n",
            "std         0.873255\n",
            "min         3.000000\n",
            "25%         5.000000\n",
            "50%         6.000000\n",
            "75%         6.000000\n",
            "max         9.000000\n",
            "Name: quality, dtype: float64\n",
            "6    2836\n",
            "5    2138\n",
            "7    1079\n",
            "4     216\n",
            "8     193\n",
            "3      30\n",
            "9       5\n",
            "Name: quality, dtype: int64\n"
          ],
          "name": "stdout"
        }
      ]
    },
    {
      "cell_type": "code",
      "metadata": {
        "colab": {
          "base_uri": "https://localhost:8080/",
          "height": 265
        },
        "id": "Gmusc81WjJeX",
        "outputId": "751d83b6-18c9-4c99-e1ef-1863c2ed6ead"
      },
      "source": [
        "# 5.13 품질 히스토그램 시각화\n",
        "import matplotlib.pyplot as plt\n",
        "plt.hist(wine['quality'], bins=7, rwidth=0.8)\n",
        "plt.show()"
      ],
      "execution_count": 16,
      "outputs": [
        {
          "output_type": "display_data",
          "data": {
            "image/png": "[encoded data removed]",
            "text/plain": [
              "<Figure size 432x288 with 1 Axes>"
            ]
          },
          "metadata": {
            "tags": [],
            "needs_background": "light"
          }
        }
      ]
    },
    {
      "cell_type": "code",
      "metadata": {
        "colab": {
          "base_uri": "https://localhost:8080/"
        },
        "id": "wc340NnijKyQ",
        "outputId": "f7392c1d-7937-486f-a8f2-5fac796608ea"
      },
      "source": [
        "# 5.14 품질을 3개의 범주(좋음, 보통, 나쁨)로 재분류\n",
        "wine.loc[wine['quality'] <= 5, 'new_quality'] = 0\n",
        "wine.loc[wine['quality'] == 6, 'new_quality'] = 1\n",
        "wine.loc[wine['quality'] >= 7, 'new_quality'] = 2\n",
        "\n",
        "print(wine['new_quality'].describe())\n",
        "print(wine['new_quality'].value_counts())"
      ],
      "execution_count": 17,
      "outputs": [
        {
          "output_type": "stream",
          "text": [
            "count    6497.000000\n",
            "mean        0.829614\n",
            "std         0.731124\n",
            "min         0.000000\n",
            "25%         0.000000\n",
            "50%         1.000000\n",
            "75%         1.000000\n",
            "max         2.000000\n",
            "Name: new_quality, dtype: float64\n",
            "1.0    2836\n",
            "0.0    2384\n",
            "2.0    1277\n",
            "Name: new_quality, dtype: int64\n"
          ],
          "name": "stdout"
        }
      ]
    },
    {
      "cell_type": "code",
      "metadata": {
        "id": "Zr8RxpK2jMZX"
      },
      "source": [
        "# 5.15 데이터 정규화 및 train, test 데이터 분리\n",
        "del wine['quality']\n",
        "wine_norm = (wine - wine.min()) / (wine.max() - wine.min())\n",
        "wine_shuffle = wine_norm.sample(frac=1)\n",
        "wine_np = wine_shuffle.to_numpy()\n",
        "\n",
        "train_idx = int(len(wine_np) * 0.8)\n",
        "train_X, train_Y = wine_np[:train_idx, :-1], wine_np[:train_idx, -1]\n",
        "test_X, test_Y = wine_np[train_idx:, :-1], wine_np[train_idx:, -1]\n",
        "train_Y = tf.keras.utils.to_categorical(train_Y, num_classes=3)\n",
        "test_Y = tf.keras.utils.to_categorical(test_Y, num_classes=3)"
      ],
      "execution_count": 18,
      "outputs": []
    },
    {
      "cell_type": "code",
      "metadata": {
        "colab": {
          "base_uri": "https://localhost:8080/"
        },
        "id": "OiVPSTR-jN04",
        "outputId": "b1142a0b-0b11-4248-d9f5-04d2f2ef42e6"
      },
      "source": [
        "# 5.16 와인 데이터셋 다항 분류 모델 생성 및 학습\n",
        "model = tf.keras.Sequential([\n",
        "    tf.keras.layers.Dense(units=48, activation='relu', input_shape=(12,)),\n",
        "    tf.keras.layers.Dense(units=24, activation='relu'),\n",
        "    tf.keras.layers.Dense(units=12, activation='relu'),\n",
        "    tf.keras.layers.Dense(units=3, activation='softmax')\n",
        "])\n",
        "\n",
        "model.compile(optimizer=tf.keras.optimizers.Adam(lr=0.07), loss='categorical_crossentropy', metrics=['accuracy'])\n",
        "\n",
        "history = model.fit(train_X, train_Y, epochs=25, batch_size=32, validation_split=0.25)"
      ],
      "execution_count": 19,
      "outputs": [
        {
          "output_type": "stream",
          "text": [
            "Epoch 1/25\n",
            "122/122 [==============================] - 0s 3ms/step - loss: 0.4664 - accuracy: 0.7998 - val_loss: 0.4137 - val_accuracy: 0.8092\n",
            "Epoch 2/25\n",
            "122/122 [==============================] - 0s 2ms/step - loss: 0.4206 - accuracy: 0.7998 - val_loss: 0.4034 - val_accuracy: 0.8092\n",
            "Epoch 3/25\n",
            "122/122 [==============================] - 0s 2ms/step - loss: 0.4023 - accuracy: 0.8060 - val_loss: 0.4084 - val_accuracy: 0.8092\n",
            "Epoch 4/25\n",
            "122/122 [==============================] - 0s 2ms/step - loss: 0.4079 - accuracy: 0.8078 - val_loss: 0.4058 - val_accuracy: 0.8092\n",
            "Epoch 5/25\n",
            "122/122 [==============================] - 0s 2ms/step - loss: 0.4068 - accuracy: 0.8134 - val_loss: 0.3987 - val_accuracy: 0.8162\n",
            "Epoch 6/25\n",
            "122/122 [==============================] - 0s 2ms/step - loss: 0.4174 - accuracy: 0.8011 - val_loss: 0.4067 - val_accuracy: 0.8092\n",
            "Epoch 7/25\n",
            "122/122 [==============================] - 0s 1ms/step - loss: 0.4029 - accuracy: 0.8116 - val_loss: 0.4451 - val_accuracy: 0.8092\n",
            "Epoch 8/25\n",
            "122/122 [==============================] - 0s 1ms/step - loss: 0.4046 - accuracy: 0.8081 - val_loss: 0.4139 - val_accuracy: 0.8208\n",
            "Epoch 9/25\n",
            "122/122 [==============================] - 0s 1ms/step - loss: 0.4002 - accuracy: 0.8176 - val_loss: 0.3979 - val_accuracy: 0.8100\n",
            "Epoch 10/25\n",
            "122/122 [==============================] - 0s 2ms/step - loss: 0.3975 - accuracy: 0.8176 - val_loss: 0.3942 - val_accuracy: 0.8185\n",
            "Epoch 11/25\n",
            "122/122 [==============================] - 0s 1ms/step - loss: 0.4018 - accuracy: 0.8101 - val_loss: 0.3983 - val_accuracy: 0.8277\n",
            "Epoch 12/25\n",
            "122/122 [==============================] - 0s 2ms/step - loss: 0.3916 - accuracy: 0.8083 - val_loss: 0.4048 - val_accuracy: 0.7877\n",
            "Epoch 13/25\n",
            "122/122 [==============================] - 0s 1ms/step - loss: 0.3952 - accuracy: 0.8065 - val_loss: 0.3944 - val_accuracy: 0.8123\n",
            "Epoch 14/25\n",
            "122/122 [==============================] - 0s 1ms/step - loss: 0.3949 - accuracy: 0.8137 - val_loss: 0.4120 - val_accuracy: 0.8092\n",
            "Epoch 15/25\n",
            "122/122 [==============================] - 0s 2ms/step - loss: 0.3958 - accuracy: 0.8042 - val_loss: 0.4187 - val_accuracy: 0.8092\n",
            "Epoch 16/25\n",
            "122/122 [==============================] - 0s 2ms/step - loss: 0.3963 - accuracy: 0.8134 - val_loss: 0.3974 - val_accuracy: 0.8177\n",
            "Epoch 17/25\n",
            "122/122 [==============================] - 0s 1ms/step - loss: 0.3942 - accuracy: 0.8096 - val_loss: 0.3934 - val_accuracy: 0.8162\n",
            "Epoch 18/25\n",
            "122/122 [==============================] - 0s 1ms/step - loss: 0.4036 - accuracy: 0.8083 - val_loss: 0.3880 - val_accuracy: 0.8154\n",
            "Epoch 19/25\n",
            "122/122 [==============================] - 0s 1ms/step - loss: 0.3998 - accuracy: 0.8093 - val_loss: 0.4065 - val_accuracy: 0.8154\n",
            "Epoch 20/25\n",
            "122/122 [==============================] - 0s 2ms/step - loss: 0.3918 - accuracy: 0.8240 - val_loss: 0.3911 - val_accuracy: 0.8246\n",
            "Epoch 21/25\n",
            "122/122 [==============================] - 0s 2ms/step - loss: 0.3938 - accuracy: 0.8219 - val_loss: 0.3903 - val_accuracy: 0.8254\n",
            "Epoch 22/25\n",
            "122/122 [==============================] - 0s 2ms/step - loss: 0.3907 - accuracy: 0.8188 - val_loss: 0.4102 - val_accuracy: 0.8138\n",
            "Epoch 23/25\n",
            "122/122 [==============================] - 0s 2ms/step - loss: 0.3951 - accuracy: 0.8188 - val_loss: 0.4382 - val_accuracy: 0.8108\n",
            "Epoch 24/25\n",
            "122/122 [==============================] - 0s 2ms/step - loss: 0.3909 - accuracy: 0.8186 - val_loss: 0.3983 - val_accuracy: 0.8177\n",
            "Epoch 25/25\n",
            "122/122 [==============================] - 0s 2ms/step - loss: 0.3910 - accuracy: 0.8122 - val_loss: 0.3928 - val_accuracy: 0.8246\n"
          ],
          "name": "stdout"
        }
      ]
    },
    {
      "cell_type": "code",
      "metadata": {
        "colab": {
          "base_uri": "https://localhost:8080/",
          "height": 283
        },
        "id": "u79ZXuUxjPzf",
        "outputId": "10f05dec-ef01-42fa-aef2-ac1d2ac1f528"
      },
      "source": [
        "# 5.17 다항 분류 모델 학습 결과 시각화\n",
        "import matplotlib.pyplot as plt\n",
        "plt.figure(figsize=(12, 4))\n",
        "\n",
        "plt.subplot(1, 2, 1)\n",
        "plt.plot(history.history['loss'], 'b-', label='loss')\n",
        "plt.plot(history.history['val_loss'], 'r--', label='val_loss')\n",
        "plt.xlabel('Epoch')\n",
        "plt.legend()\n",
        "\n",
        "plt.subplot(1, 2, 2)\n",
        "plt.plot(history.history['accuracy'], 'g-', label='accuracy')\n",
        "plt.plot(history.history['val_accuracy'], 'k--', label='val_accuracy')\n",
        "plt.xlabel('Epoch')\n",
        "plt.ylim(0.7, 1)\n",
        "plt.legend()\n",
        "\n",
        "plt.show()"
      ],
      "execution_count": 20,
      "outputs": [
        {
          "output_type": "display_data",
          "data": {
            "image/png": "[encoded data removed]",
            "text/plain": [
              "<Figure size 864x288 with 2 Axes>"
            ]
          },
          "metadata": {
            "tags": [],
            "needs_background": "light"
          }
        }
      ]
    },
    {
      "cell_type": "code",
      "metadata": {
        "colab": {
          "base_uri": "https://localhost:8080/"
        },
        "id": "_XCkruRDjSo4",
        "outputId": "f9e06603-4d29-4167-f15c-ab21309b13bb"
      },
      "source": [
        "# 5.18 다항 분류 모델 평가\n",
        "model.evaluate(test_X, test_Y)"
      ],
      "execution_count": 21,
      "outputs": [
        {
          "output_type": "stream",
          "text": [
            "41/41 [==============================] - 0s 833us/step - loss: 0.4048 - accuracy: 0.8115\n"
          ],
          "name": "stdout"
        },
        {
          "output_type": "execute_result",
          "data": {
            "text/plain": [
              "[0.4047837555408478, 0.8115384578704834]"
            ]
          },
          "metadata": {
            "tags": []
          },
          "execution_count": 21
        }
      ]
    },
    {
      "cell_type": "markdown",
      "metadata": {
        "id": "lY_D-K1VjUCi"
      },
      "source": [
        "# 5.3 Fashion MNIST"
      ]
    },
    {
      "cell_type": "code",
      "metadata": {
        "colab": {
          "base_uri": "https://localhost:8080/"
        },
        "id": "lEyJnczqjU_o",
        "outputId": "733b7b4b-154c-4a8a-cd96-7bab0cb6d054"
      },
      "source": [
        "# 5.19 Fashion MNIST 데이터셋 불러오기\n",
        "fashion_mnist = tf.keras.datasets.fashion_mnist\n",
        "(train_X, train_Y), (test_X, test_Y) = fashion_mnist.load_data()\n",
        "\n",
        "print(len(train_X), len(test_X))"
      ],
      "execution_count": 22,
      "outputs": [
        {
          "output_type": "stream",
          "text": [
            "Downloading data from https://storage.googleapis.com/tensorflow/tf-keras-datasets/train-labels-idx1-ubyte.gz\n",
            "32768/29515 [=================================] - 0s 0us/step\n",
            "Downloading data from https://storage.googleapis.com/tensorflow/tf-keras-datasets/train-images-idx3-ubyte.gz\n",
            "26427392/26421880 [==============================] - 0s 0us/step\n",
            "Downloading data from https://storage.googleapis.com/tensorflow/tf-keras-datasets/t10k-labels-idx1-ubyte.gz\n",
            "8192/5148 [===============================================] - 0s 0us/step\n",
            "Downloading data from https://storage.googleapis.com/tensorflow/tf-keras-datasets/t10k-images-idx3-ubyte.gz\n",
            "4423680/4422102 [==============================] - 0s 0us/step\n",
            "60000 10000\n"
          ],
          "name": "stdout"
        }
      ]
    },
    {
      "cell_type": "code",
      "metadata": {
        "colab": {
          "base_uri": "https://localhost:8080/",
          "height": 284
        },
        "id": "h6yI0JzQjWe3",
        "outputId": "52b3eb88-f054-4aea-d9dd-80981699a51c"
      },
      "source": [
        "# 5.20 데이터 확인\n",
        "import matplotlib.pyplot as plt\n",
        "plt.imshow(train_X[0], cmap='gray')\n",
        "plt.colorbar()\n",
        "plt.show()\n",
        "\n",
        "print(train_Y[0])"
      ],
      "execution_count": 23,
      "outputs": [
        {
          "output_type": "display_data",
          "data": {
            "image/png": "[encoded data removed]",
            "text/plain": [
              "<Figure size 432x288 with 2 Axes>"
            ]
          },
          "metadata": {
            "tags": [],
            "needs_background": "light"
          }
        },
        {
          "output_type": "stream",
          "text": [
            "9\n"
          ],
          "name": "stdout"
        }
      ]
    },
    {
      "cell_type": "code",
      "metadata": {
        "colab": {
          "base_uri": "https://localhost:8080/"
        },
        "id": "bbzJC770jXyu",
        "outputId": "8a88a913-745e-49fd-dabe-ca9a76651d5c"
      },
      "source": [
        "# 5.21 데이터 정규화\n",
        "train_X = train_X / 255.0\n",
        "test_X = test_X / 255.0\n",
        "\n",
        "print(train_X[0])"
      ],
      "execution_count": 24,
      "outputs": [
        {
          "output_type": "stream",
          "text": [
            "[[0.         0.         0.         0.         0.         0.\n",
            "  0.         0.         0.         0.         0.         0.\n",
            "  0.         0.         0.         0.         0.         0.\n",
            "  0.         0.         0.         0.         0.         0.\n",
            "  0.         0.         0.         0.        ]\n",
            " [0.         0.         0.         0.         0.         0.\n",
            "  0.         0.         0.         0.         0.         0.\n",
            "  0.         0.         0.         0.         0.         0.\n",
            "  0.         0.         0.         0.         0.         0.\n",
            "  0.         0.         0.         0.        ]\n",
            " [0.         0.         0.         0.         0.         0.\n",
            "  0.         0.         0.         0.         0.         0.\n",
            "  0.         0.         0.         0.         0.         0.\n",
            "  0.         0.         0.         0.         0.         0.\n",
            "  0.         0.         0.         0.        ]\n",
            " [0.         0.         0.         0.         0.         0.\n",
            "  0.         0.         0.         0.         0.         0.\n",
            "  0.00392157 0.         0.         0.05098039 0.28627451 0.\n",
            "  0.         0.00392157 0.01568627 0.         0.         0.\n",
            "  0.         0.00392157 0.00392157 0.        ]\n",
            " [0.         0.         0.         0.         0.         0.\n",
            "  0.         0.         0.         0.         0.         0.\n",
            "  0.01176471 0.         0.14117647 0.53333333 0.49803922 0.24313725\n",
            "  0.21176471 0.         0.         0.         0.00392157 0.01176471\n",
            "  0.01568627 0.         0.         0.01176471]\n",
            " [0.         0.         0.         0.         0.         0.\n",
            "  0.         0.         0.         0.         0.         0.\n",
            "  0.02352941 0.         0.4        0.8        0.69019608 0.5254902\n",
            "  0.56470588 0.48235294 0.09019608 0.         0.         0.\n",
            "  0.         0.04705882 0.03921569 0.        ]\n",
            " [0.         0.         0.         0.         0.         0.\n",
            "  0.         0.         0.         0.         0.         0.\n",
            "  0.         0.         0.60784314 0.9254902  0.81176471 0.69803922\n",
            "  0.41960784 0.61176471 0.63137255 0.42745098 0.25098039 0.09019608\n",
            "  0.30196078 0.50980392 0.28235294 0.05882353]\n",
            " [0.         0.         0.         0.         0.         0.\n",
            "  0.         0.         0.         0.         0.         0.00392157\n",
            "  0.         0.27058824 0.81176471 0.8745098  0.85490196 0.84705882\n",
            "  0.84705882 0.63921569 0.49803922 0.4745098  0.47843137 0.57254902\n",
            "  0.55294118 0.34509804 0.6745098  0.25882353]\n",
            " [0.         0.         0.         0.         0.         0.\n",
            "  0.         0.         0.         0.00392157 0.00392157 0.00392157\n",
            "  0.         0.78431373 0.90980392 0.90980392 0.91372549 0.89803922\n",
            "  0.8745098  0.8745098  0.84313725 0.83529412 0.64313725 0.49803922\n",
            "  0.48235294 0.76862745 0.89803922 0.        ]\n",
            " [0.         0.         0.         0.         0.         0.\n",
            "  0.         0.         0.         0.         0.         0.\n",
            "  0.         0.71764706 0.88235294 0.84705882 0.8745098  0.89411765\n",
            "  0.92156863 0.89019608 0.87843137 0.87058824 0.87843137 0.86666667\n",
            "  0.8745098  0.96078431 0.67843137 0.        ]\n",
            " [0.         0.         0.         0.         0.         0.\n",
            "  0.         0.         0.         0.         0.         0.\n",
            "  0.         0.75686275 0.89411765 0.85490196 0.83529412 0.77647059\n",
            "  0.70588235 0.83137255 0.82352941 0.82745098 0.83529412 0.8745098\n",
            "  0.8627451  0.95294118 0.79215686 0.        ]\n",
            " [0.         0.         0.         0.         0.         0.\n",
            "  0.         0.         0.         0.00392157 0.01176471 0.\n",
            "  0.04705882 0.85882353 0.8627451  0.83137255 0.85490196 0.75294118\n",
            "  0.6627451  0.89019608 0.81568627 0.85490196 0.87843137 0.83137255\n",
            "  0.88627451 0.77254902 0.81960784 0.20392157]\n",
            " [0.         0.         0.         0.         0.         0.\n",
            "  0.         0.         0.         0.         0.02352941 0.\n",
            "  0.38823529 0.95686275 0.87058824 0.8627451  0.85490196 0.79607843\n",
            "  0.77647059 0.86666667 0.84313725 0.83529412 0.87058824 0.8627451\n",
            "  0.96078431 0.46666667 0.65490196 0.21960784]\n",
            " [0.         0.         0.         0.         0.         0.\n",
            "  0.         0.         0.         0.01568627 0.         0.\n",
            "  0.21568627 0.9254902  0.89411765 0.90196078 0.89411765 0.94117647\n",
            "  0.90980392 0.83529412 0.85490196 0.8745098  0.91764706 0.85098039\n",
            "  0.85098039 0.81960784 0.36078431 0.        ]\n",
            " [0.         0.         0.00392157 0.01568627 0.02352941 0.02745098\n",
            "  0.00784314 0.         0.         0.         0.         0.\n",
            "  0.92941176 0.88627451 0.85098039 0.8745098  0.87058824 0.85882353\n",
            "  0.87058824 0.86666667 0.84705882 0.8745098  0.89803922 0.84313725\n",
            "  0.85490196 1.         0.30196078 0.        ]\n",
            " [0.         0.01176471 0.         0.         0.         0.\n",
            "  0.         0.         0.         0.24313725 0.56862745 0.8\n",
            "  0.89411765 0.81176471 0.83529412 0.86666667 0.85490196 0.81568627\n",
            "  0.82745098 0.85490196 0.87843137 0.8745098  0.85882353 0.84313725\n",
            "  0.87843137 0.95686275 0.62352941 0.        ]\n",
            " [0.         0.         0.         0.         0.07058824 0.17254902\n",
            "  0.32156863 0.41960784 0.74117647 0.89411765 0.8627451  0.87058824\n",
            "  0.85098039 0.88627451 0.78431373 0.80392157 0.82745098 0.90196078\n",
            "  0.87843137 0.91764706 0.69019608 0.7372549  0.98039216 0.97254902\n",
            "  0.91372549 0.93333333 0.84313725 0.        ]\n",
            " [0.         0.22352941 0.73333333 0.81568627 0.87843137 0.86666667\n",
            "  0.87843137 0.81568627 0.8        0.83921569 0.81568627 0.81960784\n",
            "  0.78431373 0.62352941 0.96078431 0.75686275 0.80784314 0.8745098\n",
            "  1.         1.         0.86666667 0.91764706 0.86666667 0.82745098\n",
            "  0.8627451  0.90980392 0.96470588 0.        ]\n",
            " [0.01176471 0.79215686 0.89411765 0.87843137 0.86666667 0.82745098\n",
            "  0.82745098 0.83921569 0.80392157 0.80392157 0.80392157 0.8627451\n",
            "  0.94117647 0.31372549 0.58823529 1.         0.89803922 0.86666667\n",
            "  0.7372549  0.60392157 0.74901961 0.82352941 0.8        0.81960784\n",
            "  0.87058824 0.89411765 0.88235294 0.        ]\n",
            " [0.38431373 0.91372549 0.77647059 0.82352941 0.87058824 0.89803922\n",
            "  0.89803922 0.91764706 0.97647059 0.8627451  0.76078431 0.84313725\n",
            "  0.85098039 0.94509804 0.25490196 0.28627451 0.41568627 0.45882353\n",
            "  0.65882353 0.85882353 0.86666667 0.84313725 0.85098039 0.8745098\n",
            "  0.8745098  0.87843137 0.89803922 0.11372549]\n",
            " [0.29411765 0.8        0.83137255 0.8        0.75686275 0.80392157\n",
            "  0.82745098 0.88235294 0.84705882 0.7254902  0.77254902 0.80784314\n",
            "  0.77647059 0.83529412 0.94117647 0.76470588 0.89019608 0.96078431\n",
            "  0.9372549  0.8745098  0.85490196 0.83137255 0.81960784 0.87058824\n",
            "  0.8627451  0.86666667 0.90196078 0.2627451 ]\n",
            " [0.18823529 0.79607843 0.71764706 0.76078431 0.83529412 0.77254902\n",
            "  0.7254902  0.74509804 0.76078431 0.75294118 0.79215686 0.83921569\n",
            "  0.85882353 0.86666667 0.8627451  0.9254902  0.88235294 0.84705882\n",
            "  0.78039216 0.80784314 0.72941176 0.70980392 0.69411765 0.6745098\n",
            "  0.70980392 0.80392157 0.80784314 0.45098039]\n",
            " [0.         0.47843137 0.85882353 0.75686275 0.70196078 0.67058824\n",
            "  0.71764706 0.76862745 0.8        0.82352941 0.83529412 0.81176471\n",
            "  0.82745098 0.82352941 0.78431373 0.76862745 0.76078431 0.74901961\n",
            "  0.76470588 0.74901961 0.77647059 0.75294118 0.69019608 0.61176471\n",
            "  0.65490196 0.69411765 0.82352941 0.36078431]\n",
            " [0.         0.         0.29019608 0.74117647 0.83137255 0.74901961\n",
            "  0.68627451 0.6745098  0.68627451 0.70980392 0.7254902  0.7372549\n",
            "  0.74117647 0.7372549  0.75686275 0.77647059 0.8        0.81960784\n",
            "  0.82352941 0.82352941 0.82745098 0.7372549  0.7372549  0.76078431\n",
            "  0.75294118 0.84705882 0.66666667 0.        ]\n",
            " [0.00784314 0.         0.         0.         0.25882353 0.78431373\n",
            "  0.87058824 0.92941176 0.9372549  0.94901961 0.96470588 0.95294118\n",
            "  0.95686275 0.86666667 0.8627451  0.75686275 0.74901961 0.70196078\n",
            "  0.71372549 0.71372549 0.70980392 0.69019608 0.65098039 0.65882353\n",
            "  0.38823529 0.22745098 0.         0.        ]\n",
            " [0.         0.         0.         0.         0.         0.\n",
            "  0.         0.15686275 0.23921569 0.17254902 0.28235294 0.16078431\n",
            "  0.1372549  0.         0.         0.         0.         0.\n",
            "  0.         0.         0.         0.         0.         0.\n",
            "  0.         0.         0.         0.        ]\n",
            " [0.         0.         0.         0.         0.         0.\n",
            "  0.         0.         0.         0.         0.         0.\n",
            "  0.         0.         0.         0.         0.         0.\n",
            "  0.         0.         0.         0.         0.         0.\n",
            "  0.         0.         0.         0.        ]\n",
            " [0.         0.         0.         0.         0.         0.\n",
            "  0.         0.         0.         0.         0.         0.\n",
            "  0.         0.         0.         0.         0.         0.\n",
            "  0.         0.         0.         0.         0.         0.\n",
            "  0.         0.         0.         0.        ]]\n"
          ],
          "name": "stdout"
        }
      ]
    },
    {
      "cell_type": "code",
      "metadata": {
        "colab": {
          "base_uri": "https://localhost:8080/"
        },
        "id": "Q1aXjROlja_f",
        "outputId": "0e1a3569-b57c-4409-a4b1-274d500a1a34"
      },
      "source": [
        "# 5.22 Fashion MNIST 분류 모델\n",
        "model = tf.keras.Sequential([\n",
        "    tf.keras.layers.Flatten(input_shape=(28,28)),\n",
        "    tf.keras.layers.Dense(units=128, activation='relu'),\n",
        "    tf.keras.layers.Dense(units=10, activation='softmax')\n",
        "])\n",
        "\n",
        "model.compile(optimizer=tf.keras.optimizers.Adam(), \n",
        "              loss='sparse_categorical_crossentropy', \n",
        "              metrics=['accuracy'])\n",
        "\n",
        "model.summary()"
      ],
      "execution_count": 25,
      "outputs": [
        {
          "output_type": "stream",
          "text": [
            "Model: \"sequential_2\"\n",
            "_________________________________________________________________\n",
            "Layer (type)                 Output Shape              Param #   \n",
            "=================================================================\n",
            "flatten (Flatten)            (None, 784)               0         \n",
            "_________________________________________________________________\n",
            "dense_8 (Dense)              (None, 128)               100480    \n",
            "_________________________________________________________________\n",
            "dense_9 (Dense)              (None, 10)                1290      \n",
            "=================================================================\n",
            "Total params: 101,770\n",
            "Trainable params: 101,770\n",
            "Non-trainable params: 0\n",
            "_________________________________________________________________\n"
          ],
          "name": "stdout"
        }
      ]
    },
    {
      "cell_type": "code",
      "metadata": {
        "colab": {
          "base_uri": "https://localhost:8080/"
        },
        "id": "s3kqYnVNjcYA",
        "outputId": "23062321-8549-4e94-aa7b-f748a8c7779e"
      },
      "source": [
        "# 5.23 Fashion MNIST 분류 모델 학습\n",
        "history = model.fit(train_X, train_Y, epochs=25, validation_split=0.25)"
      ],
      "execution_count": 26,
      "outputs": [
        {
          "output_type": "stream",
          "text": [
            "Epoch 1/25\n",
            "1407/1407 [==============================] - 3s 2ms/step - loss: 0.5274 - accuracy: 0.8160 - val_loss: 0.4309 - val_accuracy: 0.8519\n",
            "Epoch 2/25\n",
            "1407/1407 [==============================] - 3s 2ms/step - loss: 0.3920 - accuracy: 0.8593 - val_loss: 0.3976 - val_accuracy: 0.8563\n",
            "Epoch 3/25\n",
            "1407/1407 [==============================] - 3s 2ms/step - loss: 0.3541 - accuracy: 0.8702 - val_loss: 0.3666 - val_accuracy: 0.8667\n",
            "Epoch 4/25\n",
            "1407/1407 [==============================] - 3s 2ms/step - loss: 0.3258 - accuracy: 0.8800 - val_loss: 0.3446 - val_accuracy: 0.8769\n",
            "Epoch 5/25\n",
            "1407/1407 [==============================] - 3s 2ms/step - loss: 0.3059 - accuracy: 0.8876 - val_loss: 0.3292 - val_accuracy: 0.8813\n",
            "Epoch 6/25\n",
            "1407/1407 [==============================] - 3s 2ms/step - loss: 0.2906 - accuracy: 0.8925 - val_loss: 0.3514 - val_accuracy: 0.8725\n",
            "Epoch 7/25\n",
            "1407/1407 [==============================] - 3s 2ms/step - loss: 0.2793 - accuracy: 0.8967 - val_loss: 0.3467 - val_accuracy: 0.8729\n",
            "Epoch 8/25\n",
            "1407/1407 [==============================] - 3s 2ms/step - loss: 0.2660 - accuracy: 0.9018 - val_loss: 0.3289 - val_accuracy: 0.8847\n",
            "Epoch 9/25\n",
            "1407/1407 [==============================] - 3s 2ms/step - loss: 0.2587 - accuracy: 0.9042 - val_loss: 0.3231 - val_accuracy: 0.8821\n",
            "Epoch 10/25\n",
            "1407/1407 [==============================] - 3s 2ms/step - loss: 0.2450 - accuracy: 0.9088 - val_loss: 0.3309 - val_accuracy: 0.8829\n",
            "Epoch 11/25\n",
            "1407/1407 [==============================] - 3s 2ms/step - loss: 0.2376 - accuracy: 0.9117 - val_loss: 0.3323 - val_accuracy: 0.8832\n",
            "Epoch 12/25\n",
            "1407/1407 [==============================] - 3s 2ms/step - loss: 0.2321 - accuracy: 0.9133 - val_loss: 0.3179 - val_accuracy: 0.8889\n",
            "Epoch 13/25\n",
            "1407/1407 [==============================] - 3s 2ms/step - loss: 0.2224 - accuracy: 0.9166 - val_loss: 0.3367 - val_accuracy: 0.8841\n",
            "Epoch 14/25\n",
            "1407/1407 [==============================] - 3s 2ms/step - loss: 0.2149 - accuracy: 0.9188 - val_loss: 0.3289 - val_accuracy: 0.8848\n",
            "Epoch 15/25\n",
            "1407/1407 [==============================] - 3s 2ms/step - loss: 0.2091 - accuracy: 0.9217 - val_loss: 0.3529 - val_accuracy: 0.8809\n",
            "Epoch 16/25\n",
            "1407/1407 [==============================] - 3s 2ms/step - loss: 0.2025 - accuracy: 0.9247 - val_loss: 0.3326 - val_accuracy: 0.8882\n",
            "Epoch 17/25\n",
            "1407/1407 [==============================] - 3s 2ms/step - loss: 0.1986 - accuracy: 0.9260 - val_loss: 0.3259 - val_accuracy: 0.8879\n",
            "Epoch 18/25\n",
            "1407/1407 [==============================] - 3s 2ms/step - loss: 0.1901 - accuracy: 0.9282 - val_loss: 0.3384 - val_accuracy: 0.8922\n",
            "Epoch 19/25\n",
            "1407/1407 [==============================] - 3s 2ms/step - loss: 0.1845 - accuracy: 0.9314 - val_loss: 0.3506 - val_accuracy: 0.8834\n",
            "Epoch 20/25\n",
            "1407/1407 [==============================] - 3s 2ms/step - loss: 0.1822 - accuracy: 0.9319 - val_loss: 0.3451 - val_accuracy: 0.8867\n",
            "Epoch 21/25\n",
            "1407/1407 [==============================] - 3s 2ms/step - loss: 0.1768 - accuracy: 0.9339 - val_loss: 0.3560 - val_accuracy: 0.8875\n",
            "Epoch 22/25\n",
            "1407/1407 [==============================] - 3s 2ms/step - loss: 0.1713 - accuracy: 0.9364 - val_loss: 0.3614 - val_accuracy: 0.8805\n",
            "Epoch 23/25\n",
            "1407/1407 [==============================] - 3s 2ms/step - loss: 0.1670 - accuracy: 0.9370 - val_loss: 0.3534 - val_accuracy: 0.8880\n",
            "Epoch 24/25\n",
            "1407/1407 [==============================] - 3s 2ms/step - loss: 0.1617 - accuracy: 0.9397 - val_loss: 0.3409 - val_accuracy: 0.8884\n",
            "Epoch 25/25\n",
            "1407/1407 [==============================] - 3s 2ms/step - loss: 0.1580 - accuracy: 0.9406 - val_loss: 0.3653 - val_accuracy: 0.8907\n"
          ],
          "name": "stdout"
        }
      ]
    },
    {
      "cell_type": "code",
      "metadata": {
        "colab": {
          "base_uri": "https://localhost:8080/",
          "height": 283
        },
        "id": "TUDep2QkjdqJ",
        "outputId": "4d588ca5-9c81-4b5a-a8a9-1a0f23ce78c9"
      },
      "source": [
        "# 5.24 Fashion MNIST 분류 모델 학습 결과 시각화\n",
        "import matplotlib.pyplot as plt\n",
        "plt.figure(figsize=(12, 4))\n",
        "\n",
        "plt.subplot(1, 2, 1)\n",
        "plt.plot(history.history['loss'], 'b-', label='loss')\n",
        "plt.plot(history.history['val_loss'], 'r--', label='val_loss')\n",
        "plt.xlabel('Epoch')\n",
        "plt.legend()\n",
        "\n",
        "plt.subplot(1, 2, 2)\n",
        "plt.plot(history.history['accuracy'], 'g-', label='accuracy')\n",
        "plt.plot(history.history['val_accuracy'], 'k--', label='val_accuracy')\n",
        "plt.xlabel('Epoch')\n",
        "plt.ylim(0.7, 1)\n",
        "plt.legend()\n",
        "\n",
        "plt.show()"
      ],
      "execution_count": 27,
      "outputs": [
        {
          "output_type": "display_data",
          "data": {
            "image/png": "[encoded data removed]",
            "text/plain": [
              "<Figure size 864x288 with 2 Axes>"
            ]
          },
          "metadata": {
            "tags": [],
            "needs_background": "light"
          }
        }
      ]
    },
    {
      "cell_type": "code",
      "metadata": {
        "colab": {
          "base_uri": "https://localhost:8080/"
        },
        "id": "tbL52A4Gjf_H",
        "outputId": "d442d321-9c3a-4051-94a5-7c6c9032ad9f"
      },
      "source": [
        "# 5.25 Fashion MNIST 분류 모델 평가\n",
        "model.evaluate(test_X, test_Y)"
      ],
      "execution_count": 28,
      "outputs": [
        {
          "output_type": "stream",
          "text": [
            "313/313 [==============================] - 0s 1ms/step - loss: 0.4012 - accuracy: 0.8855\n"
          ],
          "name": "stdout"
        },
        {
          "output_type": "execute_result",
          "data": {
            "text/plain": [
              "[0.4012382924556732, 0.8855000138282776]"
            ]
          },
          "metadata": {
            "tags": []
          },
          "execution_count": 28
        }
      ]
    }
  ]
}