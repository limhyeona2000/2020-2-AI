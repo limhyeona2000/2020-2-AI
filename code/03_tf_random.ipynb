{
  "nbformat": 4,
  "nbformat_minor": 0,
  "metadata": {
    "colab": {
      "name": "03-tf-random.ipynb",
      "provenance": [],
      "collapsed_sections": [],
      "authorship_tag": "ABX9TyNugyxCEZ0pg1Lc6iEFdxr6",
      "include_colab_link": true
    },
    "kernelspec": {
      "name": "python3",
      "display_name": "Python 3"
    }
  },
  "cells": [
    {
      "cell_type": "markdown",
      "metadata": {
        "id": "view-in-github",
        "colab_type": "text"
      },
      "source": [
        "<a href=\"https://colab.research.google.com/github/limhyeona2000/2020-2-AI/blob/master/code/03_tf_random.ipynb\" target=\"_parent\"><img src=\"https://colab.research.google.com/assets/colab-badge.svg\" alt=\"Open In Colab\"/></a>"
      ]
    },
    {
      "cell_type": "code",
      "metadata": {
        "id": "oY4iUktLnhw2",
        "outputId": "233d6085-e3c7-4ed9-cbd7-82f6d63211b9",
        "colab": {
          "base_uri": "https://localhost:8080/",
          "height": 36
        }
      },
      "source": [
        "import tensorflow as tf\n",
        "tf.__version__"
      ],
      "execution_count": 2,
      "outputs": [
        {
          "output_type": "execute_result",
          "data": {
            "application/vnd.google.colaboratory.intrinsic+json": {
              "type": "string"
            },
            "text/plain": [
              "'2.3.0'"
            ]
          },
          "metadata": {
            "tags": []
          },
          "execution_count": 2
        }
      ]
    },
    {
      "cell_type": "code",
      "metadata": {
        "id": "Oz1aRuW8nlvF",
        "outputId": "f1047f0c-5cc0-4c6a-99eb-9c9794028674",
        "colab": {
          "base_uri": "https://localhost:8080/",
          "height": 36
        }
      },
      "source": [
        "# 3.7 랜덤한 수 얻기 (균일 분포)\n",
        "rand = tf.random.uniform([1], 0, 1)\n",
        "print(rand)"
      ],
      "execution_count": null,
      "outputs": [
        {
          "output_type": "stream",
          "text": [
            "tf.Tensor([0.9350368], shape=(1,), dtype=float32)\n"
          ],
          "name": "stdout"
        }
      ]
    },
    {
      "cell_type": "code",
      "metadata": {
        "id": "wUb9Ze5fnvqD",
        "outputId": "dbdddba2-bfce-4664-d9a5-5d23460b7358",
        "colab": {
          "base_uri": "https://localhost:8080/",
          "height": 130
        }
      },
      "source": [
        "rand = tf.random.uniform([5, 4], 0, 1)\n",
        "print(rand)"
      ],
      "execution_count": null,
      "outputs": [
        {
          "output_type": "stream",
          "text": [
            "tf.Tensor(\n",
            "[[0.5653237  0.91181135 0.8995309  0.78662753]\n",
            " [0.06740403 0.8640251  0.43544865 0.395414  ]\n",
            " [0.02629578 0.3951565  0.9099419  0.79384494]\n",
            " [0.08945036 0.5120373  0.94386446 0.505563  ]\n",
            " [0.9548856  0.777902   0.14562738 0.2684089 ]], shape=(5, 4), dtype=float32)\n"
          ],
          "name": "stdout"
        }
      ]
    },
    {
      "cell_type": "code",
      "metadata": {
        "id": "d6P_6fU9n2Bg",
        "outputId": "c8486e49-e5fe-49c3-e26f-227ad0fafed2",
        "colab": {
          "base_uri": "https://localhost:8080/",
          "height": 74
        }
      },
      "source": [
        "rand = tf.random.uniform([1000], 0, 10)\n",
        "print(rand[:10])"
      ],
      "execution_count": null,
      "outputs": [
        {
          "output_type": "stream",
          "text": [
            "tf.Tensor(\n",
            "[9.449848  8.123035  3.4719706 4.3618464 4.2463074 9.417586  4.79056\n",
            " 7.6888714 6.887107  9.992485 ], shape=(10,), dtype=float32)\n"
          ],
          "name": "stdout"
        }
      ]
    },
    {
      "cell_type": "code",
      "metadata": {
        "id": "oJdu7EzKn7nO",
        "outputId": "ac0ae21d-e39f-4e8e-d5b1-b85fc278a457",
        "colab": {
          "base_uri": "https://localhost:8080/",
          "height": 378
        }
      },
      "source": [
        "import matplotlib.pyplot as plt\n",
        "rand = tf.random.uniform([10000], 0, 50)\n",
        "plt.hist(rand, bins=10)"
      ],
      "execution_count": null,
      "outputs": [
        {
          "output_type": "execute_result",
          "data": {
            "text/plain": [
              "(array([ 998., 1034., 1038.,  988., 1020.,  959.,  960.,  942., 1001.,\n",
              "        1060.]),\n",
              " array([5.5968761e-03, 5.0050173e+00, 1.0004437e+01, 1.5003859e+01,\n",
              "        2.0003279e+01, 2.5002699e+01, 3.0002119e+01, 3.5001541e+01,\n",
              "        4.0000961e+01, 4.5000381e+01, 4.9999802e+01], dtype=float32),\n",
              " <a list of 10 Patch objects>)"
            ]
          },
          "metadata": {
            "tags": []
          },
          "execution_count": 7
        },
        {
          "output_type": "display_data",
          "data": {
            "image/png": "[encoded data removed]",
            "text/plain": [
              "<Figure size 432x288 with 1 Axes>"
            ]
          },
          "metadata": {
            "tags": [],
            "needs_background": "light"
          }
        }
      ]
    },
    {
      "cell_type": "code",
      "metadata": {
        "id": "-NA6VpmBoGKy",
        "outputId": "3d809270-853d-4bb6-e047-222ffc597933",
        "colab": {
          "base_uri": "https://localhost:8080/",
          "height": 36
        }
      },
      "source": [
        "# 3.9 랜덤한 수 여러 개 얻기 (정규 분포)\n",
        "rand = tf.random.normal([4], 0, 1)\n",
        "print(rand)"
      ],
      "execution_count": null,
      "outputs": [
        {
          "output_type": "stream",
          "text": [
            "tf.Tensor([-0.6558202  -0.5756624   0.7712773   0.24256139], shape=(4,), dtype=float32)\n"
          ],
          "name": "stdout"
        }
      ]
    },
    {
      "cell_type": "code",
      "metadata": {
        "id": "n-PjwpQ-oUy8",
        "outputId": "1ae96646-2f4b-4d87-b823-ea5638a1c4b2",
        "colab": {
          "base_uri": "https://localhost:8080/",
          "height": 74
        }
      },
      "source": [
        "# 3.9 랜덤한 수 여러 개 얻기 (정규 분포)\n",
        "rand = tf.random.normal([2, 4], 0, 2)\n",
        "print(rand)"
      ],
      "execution_count": 4,
      "outputs": [
        {
          "output_type": "stream",
          "text": [
            "tf.Tensor(\n",
            "[[ 1.7967545  -0.3346965   2.4962647   1.8729409 ]\n",
            " [-0.01336016 -2.818242    3.967754    0.24751154]], shape=(2, 4), dtype=float32)\n"
          ],
          "name": "stdout"
        }
      ]
    },
    {
      "cell_type": "code",
      "metadata": {
        "id": "NrJsjGdBocNW",
        "outputId": "fbbf511b-8fe2-468c-e5d1-ab9f2a19ed9b",
        "colab": {
          "base_uri": "https://localhost:8080/",
          "height": 359
        }
      },
      "source": [
        "import matplotlib.pyplot as plt\n",
        "rand = tf.random.normal([100], 0, 1)\n",
        "plt.hist(rand, bins=10)"
      ],
      "execution_count": null,
      "outputs": [
        {
          "output_type": "execute_result",
          "data": {
            "text/plain": [
              "(array([ 3.,  9., 13., 16., 16., 23., 14.,  4.,  1.,  1.]),\n",
              " array([-2.6969168 , -2.0826037 , -1.4682907 , -0.85397756, -0.23966451,\n",
              "         0.37464857,  0.98896164,  1.6032747 ,  2.2175877 ,  2.8319008 ,\n",
              "         3.446214  ], dtype=float32),\n",
              " <a list of 10 Patch objects>)"
            ]
          },
          "metadata": {
            "tags": []
          },
          "execution_count": 10
        },
        {
          "output_type": "display_data",
          "data": {
            "image/png": "[encoded data removed]",
            "text/plain": [
              "<Figure size 432x288 with 1 Axes>"
            ]
          },
          "metadata": {
            "tags": [],
            "needs_background": "light"
          }
        }
      ]
    },
    {
      "cell_type": "code",
      "metadata": {
        "id": "SvyyCv1Jol6x",
        "outputId": "6e9c97e9-baed-4a40-e75a-365adf3bb6fd",
        "colab": {
          "base_uri": "https://localhost:8080/",
          "height": 925
        }
      },
      "source": [
        "import matplotlib.pyplot as plt\n",
        "rand1 = tf.random.normal([1000], 0, 1)\n",
        "rand2 = tf.random.uniform([2000], 0, 1)\n",
        "plt.hist(rand1, bins=100)\n",
        "plt.hist(rand2, bins=100)"
      ],
      "execution_count": null,
      "outputs": [
        {
          "output_type": "execute_result",
          "data": {
            "text/plain": [
              "(array([16., 15., 25., 18., 18., 17., 22., 23., 17., 18., 16., 18., 31.,\n",
              "        23., 16., 23., 27., 11., 18., 28., 17., 21., 16., 28., 24., 11.,\n",
              "        20., 16., 22., 13., 26., 20., 25., 23., 19., 20., 18., 19., 21.,\n",
              "        13., 21., 20., 23., 23., 13., 14., 22., 27., 14., 22., 20., 18.,\n",
              "        25., 21., 15., 21., 26., 12., 22., 15., 19., 14., 26., 23., 18.,\n",
              "        19., 16., 24., 19., 28., 20., 23., 19., 18., 18., 32., 23., 24.,\n",
              "        20., 21., 15., 23., 18., 23., 15., 21., 20., 12., 21., 29., 19.,\n",
              "        22., 20., 19., 25., 22., 24., 16., 16., 10.]),\n",
              " array([8.13961029e-04, 1.08040152e-02, 2.07940694e-02, 3.07841245e-02,\n",
              "        4.07741778e-02, 5.07642329e-02, 6.07542880e-02, 7.07443431e-02,\n",
              "        8.07343945e-02, 9.07244533e-02, 1.00714505e-01, 1.10704556e-01,\n",
              "        1.20694615e-01, 1.30684674e-01, 1.40674725e-01, 1.50664777e-01,\n",
              "        1.60654828e-01, 1.70644879e-01, 1.80634946e-01, 1.90624997e-01,\n",
              "        2.00615048e-01, 2.10605100e-01, 2.20595151e-01, 2.30585217e-01,\n",
              "        2.40575269e-01, 2.50565320e-01, 2.60555387e-01, 2.70545423e-01,\n",
              "        2.80535489e-01, 2.90525526e-01, 3.00515592e-01, 3.10505658e-01,\n",
              "        3.20495695e-01, 3.30485761e-01, 3.40475798e-01, 3.50465864e-01,\n",
              "        3.60455930e-01, 3.70445967e-01, 3.80436033e-01, 3.90426069e-01,\n",
              "        4.00416136e-01, 4.10406202e-01, 4.20396239e-01, 4.30386305e-01,\n",
              "        4.40376341e-01, 4.50366408e-01, 4.60356474e-01, 4.70346510e-01,\n",
              "        4.80336577e-01, 4.90326613e-01, 5.00316679e-01, 5.10306716e-01,\n",
              "        5.20296812e-01, 5.30286849e-01, 5.40276885e-01, 5.50266981e-01,\n",
              "        5.60257018e-01, 5.70247054e-01, 5.80237091e-01, 5.90227187e-01,\n",
              "        6.00217223e-01, 6.10207260e-01, 6.20197356e-01, 6.30187392e-01,\n",
              "        6.40177429e-01, 6.50167465e-01, 6.60157561e-01, 6.70147598e-01,\n",
              "        6.80137634e-01, 6.90127730e-01, 7.00117767e-01, 7.10107803e-01,\n",
              "        7.20097899e-01, 7.30087936e-01, 7.40077972e-01, 7.50068069e-01,\n",
              "        7.60058105e-01, 7.70048141e-01, 7.80038178e-01, 7.90028274e-01,\n",
              "        8.00018311e-01, 8.10008347e-01, 8.19998443e-01, 8.29988480e-01,\n",
              "        8.39978516e-01, 8.49968553e-01, 8.59958649e-01, 8.69948685e-01,\n",
              "        8.79938722e-01, 8.89928818e-01, 8.99918854e-01, 9.09908891e-01,\n",
              "        9.19898987e-01, 9.29889023e-01, 9.39879060e-01, 9.49869096e-01,\n",
              "        9.59859192e-01, 9.69849229e-01, 9.79839265e-01, 9.89829361e-01,\n",
              "        9.99819398e-01], dtype=float32),\n",
              " <a list of 100 Patch objects>)"
            ]
          },
          "metadata": {
            "tags": []
          },
          "execution_count": 11
        },
        {
          "output_type": "display_data",
          "data": {
            "image/png": "[encoded data removed]",
            "text/plain": [
              "<Figure size 432x288 with 1 Axes>"
            ]
          },
          "metadata": {
            "tags": [],
            "needs_background": "light"
          }
        }
      ]
    },
    {
      "cell_type": "code",
      "metadata": {
        "id": "DYlq7zPMozjy",
        "outputId": "b106bc7e-f90a-425d-adbe-e2eb30e4c308",
        "colab": {
          "base_uri": "https://localhost:8080/",
          "height": 1000
        }
      },
      "source": [
        "import matplotlib.pyplot as plt\n",
        "rand1 = tf.random.normal([1000], 0, 1)\n",
        "rand2 = tf.random.uniform([2000], 0, 1)\n",
        "\n",
        "plt.rcParams[\"figure.figsize\"] = (12, 6)\n",
        "fig, axes = plt.subplots(1, 2, sharex=True, sharey=True)\n",
        "axes[0].hist(rand1, bins=100)\n",
        "axes[1].hist(rand2, bins=100)"
      ],
      "execution_count": null,
      "outputs": [
        {
          "output_type": "execute_result",
          "data": {
            "text/plain": [
              "(array([22., 22., 14., 20., 24., 23., 27., 17., 16., 15., 20., 15., 16.,\n",
              "        26., 17., 16., 25., 20., 15., 17., 20., 20., 18., 20., 23., 18.,\n",
              "        24., 23., 11., 23., 16., 24., 23., 18., 16., 19., 21., 22., 23.,\n",
              "        15., 11., 20., 14., 23., 28., 25., 27., 22., 23., 20., 23., 27.,\n",
              "        12., 21., 25., 24., 18., 17., 14., 24., 19., 20., 23., 21., 26.,\n",
              "        19., 32., 29., 23., 19., 17., 29., 26., 12., 16., 17., 18., 24.,\n",
              "        21., 26., 21., 14., 10., 12., 25., 14., 20., 20., 11., 20., 22.,\n",
              "        15., 15., 18., 20., 28., 13., 21., 23., 19.]),\n",
              " array([3.33786011e-05, 1.00317383e-02, 2.00300980e-02, 3.00284568e-02,\n",
              "        4.00268175e-02, 5.00251763e-02, 6.00235350e-02, 7.00218976e-02,\n",
              "        8.00202563e-02, 9.00186151e-02, 1.00016974e-01, 1.10015333e-01,\n",
              "        1.20013691e-01, 1.30012050e-01, 1.40010417e-01, 1.50008768e-01,\n",
              "        1.60007134e-01, 1.70005500e-01, 1.80003852e-01, 1.90002218e-01,\n",
              "        2.00000569e-01, 2.09998935e-01, 2.19997287e-01, 2.29995653e-01,\n",
              "        2.39994004e-01, 2.49992371e-01, 2.59990722e-01, 2.69989103e-01,\n",
              "        2.79987454e-01, 2.89985806e-01, 2.99984157e-01, 3.09982538e-01,\n",
              "        3.19980890e-01, 3.29979241e-01, 3.39977622e-01, 3.49975973e-01,\n",
              "        3.59974325e-01, 3.69972676e-01, 3.79971057e-01, 3.89969409e-01,\n",
              "        3.99967760e-01, 4.09966111e-01, 4.19964492e-01, 4.29962844e-01,\n",
              "        4.39961195e-01, 4.49959576e-01, 4.59957927e-01, 4.69956279e-01,\n",
              "        4.79954630e-01, 4.89953011e-01, 4.99951363e-01, 5.09949744e-01,\n",
              "        5.19948065e-01, 5.29946446e-01, 5.39944828e-01, 5.49943149e-01,\n",
              "        5.59941530e-01, 5.69939852e-01, 5.79938233e-01, 5.89936614e-01,\n",
              "        5.99934936e-01, 6.09933317e-01, 6.19931698e-01, 6.29930019e-01,\n",
              "        6.39928401e-01, 6.49926782e-01, 6.59925103e-01, 6.69923484e-01,\n",
              "        6.79921865e-01, 6.89920187e-01, 6.99918568e-01, 7.09916890e-01,\n",
              "        7.19915271e-01, 7.29913652e-01, 7.39911973e-01, 7.49910355e-01,\n",
              "        7.59908736e-01, 7.69907057e-01, 7.79905438e-01, 7.89903820e-01,\n",
              "        7.99902141e-01, 8.09900522e-01, 8.19898844e-01, 8.29897225e-01,\n",
              "        8.39895606e-01, 8.49893928e-01, 8.59892309e-01, 8.69890690e-01,\n",
              "        8.79889011e-01, 8.89887393e-01, 8.99885774e-01, 9.09884095e-01,\n",
              "        9.19882476e-01, 9.29880857e-01, 9.39879179e-01, 9.49877560e-01,\n",
              "        9.59875882e-01, 9.69874263e-01, 9.79872644e-01, 9.89870965e-01,\n",
              "        9.99869347e-01], dtype=float32),\n",
              " <a list of 100 Patch objects>)"
            ]
          },
          "metadata": {
            "tags": []
          },
          "execution_count": 13
        },
        {
          "output_type": "display_data",
          "data": {
            "image/png": "[encoded data removed]",
            "text/plain": [
              "<Figure size 864x432 with 2 Axes>"
            ]
          },
          "metadata": {
            "tags": [],
            "needs_background": "light"
          }
        }
      ]
    },
    {
      "cell_type": "code",
      "metadata": {
        "id": "-67a95A8pPr6",
        "outputId": "d149604a-480e-44e7-b513-4aa00856cf7d",
        "colab": {
          "base_uri": "https://localhost:8080/",
          "height": 55
        }
      },
      "source": [
        "import numpy as np\n",
        "a = np.arange(10)\n",
        "print(a)\n",
        "tf.random.shuffle(a)"
      ],
      "execution_count": null,
      "outputs": [
        {
          "output_type": "stream",
          "text": [
            "[0 1 2 3 4 5 6 7 8 9]\n"
          ],
          "name": "stdout"
        },
        {
          "output_type": "execute_result",
          "data": {
            "text/plain": [
              "<tf.Tensor: shape=(10,), dtype=int64, numpy=array([7, 8, 5, 9, 1, 2, 4, 6, 0, 3])>"
            ]
          },
          "metadata": {
            "tags": []
          },
          "execution_count": 14
        }
      ]
    },
    {
      "cell_type": "code",
      "metadata": {
        "id": "MBw1wSm7pZ1M",
        "outputId": "eb2e9100-8ee7-45b9-9dda-b7435ed6a362",
        "colab": {
          "base_uri": "https://localhost:8080/",
          "height": 92
        }
      },
      "source": [
        "import numpy as np\n",
        "a = np.arange(20).reshape(4, 5)\n",
        "a"
      ],
      "execution_count": null,
      "outputs": [
        {
          "output_type": "execute_result",
          "data": {
            "text/plain": [
              "array([[ 0,  1,  2,  3,  4],\n",
              "       [ 5,  6,  7,  8,  9],\n",
              "       [10, 11, 12, 13, 14],\n",
              "       [15, 16, 17, 18, 19]])"
            ]
          },
          "metadata": {
            "tags": []
          },
          "execution_count": 15
        }
      ]
    },
    {
      "cell_type": "code",
      "metadata": {
        "id": "LL1VJXr1pfXe",
        "outputId": "1c9eb99b-abd4-4bcd-999c-fd08d52d753b",
        "colab": {
          "base_uri": "https://localhost:8080/",
          "height": 111
        }
      },
      "source": [
        "tf.random.shuffle(a)"
      ],
      "execution_count": null,
      "outputs": [
        {
          "output_type": "execute_result",
          "data": {
            "text/plain": [
              "<tf.Tensor: shape=(4, 5), dtype=int64, numpy=\n",
              "array([[ 5,  6,  7,  8,  9],\n",
              "       [10, 11, 12, 13, 14],\n",
              "       [ 0,  1,  2,  3,  4],\n",
              "       [15, 16, 17, 18, 19]])>"
            ]
          },
          "metadata": {
            "tags": []
          },
          "execution_count": 16
        }
      ]
    }
  ]
}